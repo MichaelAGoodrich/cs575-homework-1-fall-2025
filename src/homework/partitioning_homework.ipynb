{
 "cells": [
  {
   "cell_type": "markdown",
   "metadata": {},
   "source": [
    "### Partitioning Homework\n",
    "\n",
    "The purpose of this homework is to build intuition about the different partitioning algorithms by applying them to a couple of informative graphs. The homework doesn't include the Girvan-Newman edge betweenness partitioning method since you've already done a homework problem for this algorithm.\n",
    "\n",
    "The homework has you explore the folllowing partitioning algorithms\n",
    "- Modularity-based methods\n",
    "  - Spectral modularity partition\n",
    "  - Louvain algorithm modularity partition\n",
    "- Graph cut methods\n",
    "  - Kernighan-Lin hill-climbing partition\n",
    "  - Spectral modularity partition using\n",
    "    - Graph Laplacian $L=D-V$\n",
    "    - Random walk Laplacian $LD^{-1}$\n",
    "    - Normalized Laplacian $D^{-1/2}LD^{-1/2}$\n",
    "\n",
    "---\n"
   ]
  },
  {
   "cell_type": "markdown",
   "metadata": {},
   "source": [
    "### Visualization Routines\n",
    "\n",
    "I've collected the visualization routines into a python file called _partitioning\\_utilities_. That file also contains each of the modularity cut and graph cut algorithms that we've discussed (plus their helper functions). Import the visualization routines."
   ]
  },
  {
   "cell_type": "code",
   "execution_count": null,
   "metadata": {},
   "outputs": [],
   "source": [
    "from partitioning_utilities import show_partitions, show_dendrogram, show_graph\n",
    "import networkx as nx\n",
    "from typing import Hashable"
   ]
  },
  {
   "cell_type": "markdown",
   "metadata": {},
   "source": [
    "---"
   ]
  },
  {
   "cell_type": "markdown",
   "metadata": {},
   "source": [
    "### Three Networks\n",
    "\n",
    "You'll apply the algorithms to three networks\n",
    "  - The Les Miserables network\n",
    "  - A network with three \"natural\" communities\n",
    "  - A small world network\n",
    "\n",
    "Let's visualize each, along with the dendrogram."
   ]
  },
  {
   "cell_type": "markdown",
   "metadata": {},
   "source": [
    "**Les Miserables network**\n",
    "\n",
    "Vertices represent characters in the book _Les Miserables_. Edges between vertices occur if two characters appear in the same scene."
   ]
  },
  {
   "cell_type": "code",
   "execution_count": null,
   "metadata": {},
   "outputs": [],
   "source": [
    "les_mis_graph = nx.les_miserables_graph()\n",
    "# The labels of the nodes are character names. \n",
    "# Change these to ints so things display better\n",
    "mapping = {name: i for i, name in enumerate(les_mis_graph.nodes())}\n",
    "les_mis_graph = nx.relabel_nodes(les_mis_graph, mapping)\n",
    "show_graph(les_mis_graph,title = \"Les Miserables\")\n"
   ]
  },
  {
   "cell_type": "code",
   "execution_count": null,
   "metadata": {},
   "outputs": [],
   "source": [
    "show_dendrogram(les_mis_graph, title=\"Les Miserables\")"
   ]
  },
  {
   "cell_type": "markdown",
   "metadata": {},
   "source": [
    "**Network with Natural Communities**"
   ]
  },
  {
   "cell_type": "code",
   "execution_count": null,
   "metadata": {},
   "outputs": [],
   "source": [
    "sizes = [20, 20, 20]\n",
    "probs = [[0.35, 0.02, 0.02], [0.02, 0.35, 0.02], [0.02, 0.02, 0.40]]\n",
    "affinity_graph = nx.stochastic_block_model(sizes, probs, seed=42)\n",
    "show_graph(affinity_graph, title = \"Stochastic block network\")"
   ]
  },
  {
   "cell_type": "code",
   "execution_count": null,
   "metadata": {},
   "outputs": [],
   "source": [
    "show_dendrogram(affinity_graph, title=\"Affinity Network\")"
   ]
  },
  {
   "cell_type": "markdown",
   "metadata": {},
   "source": [
    "**Small World Network**"
   ]
  },
  {
   "cell_type": "code",
   "execution_count": null,
   "metadata": {},
   "outputs": [],
   "source": [
    "small_world = nx.newman_watts_strogatz_graph(60, 4, 0.3, seed = 42)\n",
    "show_graph(small_world, title = \"Small World\")"
   ]
  },
  {
   "cell_type": "code",
   "execution_count": null,
   "metadata": {},
   "outputs": [],
   "source": [
    "show_dendrogram(small_world, title = \"Small World\")"
   ]
  },
  {
   "cell_type": "markdown",
   "metadata": {},
   "source": [
    "---"
   ]
  },
  {
   "cell_type": "markdown",
   "metadata": {},
   "source": [
    "### Question Block A: Communities Found by the Louvain Algorithm\n",
    "\n",
    "The following three questions are intended to build understanding of how well the Louvain algorithm works with the default parameters and what happens when we change the resolution parameter. \n",
    "\n",
    "The _resolution_ parameter influences whether the Louvain community detection algorithm favors a partition with many groups or few groups. The higher the parameter, the more the algorithm favors many groups in the partition, with each group having few members. The lower the parameter, the more the algorithm favors few groups in the partition, with each group having many members. "
   ]
  },
  {
   "cell_type": "markdown",
   "metadata": {},
   "source": [
    "### Problem 1: Louvain algorithm for the Affinity Graph\n",
    "\n",
    "    Answer the questions in Problems a, b, and c before you run the code in the next three cells. Answer question d after you run the code in the next three cells.\n",
    "\n",
    "**Problem 1a:**\n",
    "How many communities do you predict will be found for the default parameters of the Louvain algorithm? Justify your prediction using observations from the dendrogram. \n",
    "\n",
    "**Problem 1b:**\n",
    "What do you predict will happen if you raise the resolution parameter from the default value of 1.0 to 1.5? Why?\n",
    "\n",
    "**Problem 1c:**\n",
    "What do you predict will happen if you lower the resolution parameter from the default value of 1.0 to 0.5? Why?\n",
    "\n",
    "**Problem 1d:**\n",
    "Run the code below. Were your predictions correct? What can you conclude from the experiment about the modular structure of the affinity graph?"
   ]
  },
  {
   "cell_type": "code",
   "execution_count": null,
   "metadata": {},
   "outputs": [],
   "source": [
    "seed = 42\n",
    "partition: list[set[Hashable]] = nx.community.louvain_communities(affinity_graph,\n",
    "                                                                  seed=seed)\n",
    "show_partitions(affinity_graph, \n",
    "                partition=partition,\n",
    "                title=\"Affinity network: default parameters\")"
   ]
  },
  {
   "cell_type": "code",
   "execution_count": null,
   "metadata": {},
   "outputs": [],
   "source": [
    "seed = 42\n",
    "resolution: float = 1.5\n",
    "partition: list[set[Hashable]] = nx.community.louvain_communities(affinity_graph,\n",
    "                                                                  seed=seed,\n",
    "                                                                  resolution = resolution)\n",
    "show_partitions(affinity_graph, \n",
    "                partition=partition,\n",
    "                title=f\"Affinity: res = {resolution}\")"
   ]
  },
  {
   "cell_type": "code",
   "execution_count": null,
   "metadata": {},
   "outputs": [],
   "source": [
    "seed = 42\n",
    "resolution: float = 0.5\n",
    "partition: list[set[Hashable]] = nx.community.louvain_communities(affinity_graph,\n",
    "                                                                  seed=seed,\n",
    "                                                                  resolution = resolution)\n",
    "show_partitions(affinity_graph, \n",
    "                partition=partition,\n",
    "                title=f\"Affinity: res = {resolution}\")"
   ]
  },
  {
   "cell_type": "markdown",
   "metadata": {},
   "source": [
    "---"
   ]
  },
  {
   "cell_type": "markdown",
   "metadata": {},
   "source": [
    "### Problem 2: Louvain algorithm for the Les Miserables Network\n",
    "\n",
    "    Answer the questions in Problems a, b, and c before you run the code in the next three cells. Answer question d after you run the code in the next three cells.\n",
    "\n",
    "**Problem 2a:**\n",
    "How many communities do you predict will be found for the default parameters of the Louvain algorithm? Justify your prediction using observations from the dendrogram. \n",
    "\n",
    "**Problem 2b:**\n",
    "What do you predict will happen if you raise the resolution parameter from the default value of 1.0 to 1.5? Why?\n",
    "\n",
    "**Problem 2c:**\n",
    "What do you predict will happen if you lower the resolution parameter from the default value of 1.0 to 0.5? Why?\n",
    "\n",
    "**Problem 2d:**\n",
    "Run the code below. Were your predictions correct? What can you conclude from the experiment about the modular structure of the affinity graph?"
   ]
  },
  {
   "cell_type": "code",
   "execution_count": null,
   "metadata": {},
   "outputs": [],
   "source": [
    "seed = 42\n",
    "partition: list[set[Hashable]] = nx.community.louvain_communities(les_mis_graph,\n",
    "                                                                  seed=seed)\n",
    "show_partitions(les_mis_graph, \n",
    "                partition=partition,\n",
    "                title=\"LesMis:\")"
   ]
  },
  {
   "cell_type": "code",
   "execution_count": null,
   "metadata": {},
   "outputs": [],
   "source": [
    "seed = 42\n",
    "resolution: float = 1.5\n",
    "partition: list[set[Hashable]] = nx.community.louvain_communities(les_mis_graph,\n",
    "                                                                  seed=seed,\n",
    "                                                                  resolution = resolution)\n",
    "show_partitions(les_mis_graph, \n",
    "                partition=partition,\n",
    "                title=f\"LesMis: res = {resolution}\")"
   ]
  },
  {
   "cell_type": "code",
   "execution_count": null,
   "metadata": {},
   "outputs": [],
   "source": [
    "seed = 42\n",
    "resolution: float = 0.5\n",
    "partition: list[set[Hashable]] = nx.community.louvain_communities(les_mis_graph,\n",
    "                                                                  seed=seed,\n",
    "                                                                  resolution = resolution)\n",
    "show_partitions(les_mis_graph, \n",
    "                partition=partition,\n",
    "                title=f\"LesMis: res = {resolution}\")"
   ]
  },
  {
   "cell_type": "markdown",
   "metadata": {},
   "source": [
    "---"
   ]
  },
  {
   "cell_type": "markdown",
   "metadata": {},
   "source": [
    "### Problem 3: Louvain algorithm for the Small World Graph\n",
    "\n",
    "    Answer the questions in Problems a, b, and c before you run the code in the next three cells. Answer question d after you run the code in the next three cells.\n",
    "\n",
    "**Problem 3a:**\n",
    "How many communities do you predict will be found for the default parameters of the Louvain algorithm? Justify your prediction using observations from the dendrogram. \n",
    "\n",
    "**Problem 3b:**\n",
    "What do you predict will happen if you raise the resolution parameter from the default value of 1.0 to 1.5? Why?\n",
    "\n",
    "**Problem 3c:**\n",
    "What do you predict will happen if you lower the resolution parameter from the default value of 1.0 to 0.5? Why?\n",
    "\n",
    "**Problem 3d:**\n",
    "Run the code below. Were your predictions correct? What can you conclude from the experiment about the modular structure of the affinity graph?"
   ]
  },
  {
   "cell_type": "code",
   "execution_count": null,
   "metadata": {},
   "outputs": [],
   "source": [
    "seed = 42\n",
    "partition: list[set[Hashable]] = nx.community.louvain_communities(small_world,\n",
    "                                                                  seed=seed)\n",
    "show_partitions(small_world, \n",
    "                partition=partition,\n",
    "                title=\"SmallWorld:\")"
   ]
  },
  {
   "cell_type": "code",
   "execution_count": null,
   "metadata": {},
   "outputs": [],
   "source": [
    "seed = 42\n",
    "resolution: float = 1.5\n",
    "partition: list[set[Hashable]] = nx.community.louvain_communities(small_world,\n",
    "                                                                  seed=seed,\n",
    "                                                                  resolution = resolution)\n",
    "show_partitions(small_world, \n",
    "                partition=partition,\n",
    "                title=f\"SmallWorld: res = {resolution}\")\n"
   ]
  },
  {
   "cell_type": "code",
   "execution_count": null,
   "metadata": {},
   "outputs": [],
   "source": [
    "\n",
    "seed = 42\n",
    "resolution: float = 0.5\n",
    "partition: list[set[Hashable]] = nx.community.louvain_communities(small_world,\n",
    "                                                                  seed=seed,\n",
    "                                                                  resolution = resolution)\n",
    "show_partitions(small_world, \n",
    "                partition=partition,\n",
    "                title=f\"SmallWorld: res = {resolution}\")"
   ]
  },
  {
   "cell_type": "markdown",
   "metadata": {},
   "source": [
    "---\n",
    "---"
   ]
  },
  {
   "cell_type": "markdown",
   "metadata": {},
   "source": [
    "### Homework Questions about Decomposition Algorithms\n",
    "\n",
    "The next questions are about the decomposition algorithms:\n",
    "  - Modularity-based partitioning\n",
    "    - Newman's hill-climbing algorithm\n",
    "    - The spectral partitioning algorithm using the leading eigenvector from the modularity matrix $B$\n",
    "  - Graph cut-based partitioning\n",
    "    - The Kernighan-Lin hill-climbing algorithm\n",
    "    - The spectral partitioning algorithm using the fiedler eigenvector from for two of the three types of Laplacians\n",
    "      - $L$: the standard Laplacian\n",
    "      - $D^{-1/2}LD^{-1/2}$: the normalized Laplacian\n",
    "\n",
    "Each of these decomposition algorithms partitions a set of nodes into two subsets. I think it is helpful to split the graph into more than two groups so that the outcomes of the algorithms can be compared to the partition generated by the Louvain algorithm. \n",
    "\n",
    "The code in the following cell takes a partition, finds the largest group within that partition, and splits that group. The key argument is the partitioning method to be used. This argument is a function that implements one of the algorithms above. That makes it possible to iteratively _sub-partition_ the groups until you have the same number of groups as were found by the Louvain algorithm."
   ]
  },
  {
   "cell_type": "code",
   "execution_count": null,
   "metadata": {},
   "outputs": [],
   "source": [
    "from typing import Hashable, List, Set\n",
    "from typing import Callable as function\n",
    "\n",
    "def sub_partition(G: nx.Graph,\n",
    "                  partition: List[Set[Hashable]],\n",
    "                  partition_method: function\n",
    "                  ) -> List[Set[Hashable]]:\n",
    "    \"\"\" \n",
    "        Input: \n",
    "            • a networkx Graph\n",
    "            • a list of subsets of the nodes in the graph that partition the nodes\n",
    "            • a function that can be used to partition the nodes\n",
    "        Algorithm:\n",
    "            • find the group in the partition that has the most nodes\n",
    "            • copy the remaining groups from that partition into a new partition\n",
    "            • split the largest group by creating the subgraph and calling the partition function\n",
    "            • add the newly formed subsets of the split group to the new partition\n",
    "\n",
    "    \"\"\"\n",
    "    # make sure groups actually form a partition of G.nodes\n",
    "    if set(G.nodes()) != set().union(*partition):  # The * unpacks the list\n",
    "        raise ValueError(\"partition doesn't include all nodes in the graph\")\n",
    "    # find largest group\n",
    "    largest_group: Set[Hashable] = max(partition, key=len)\n",
    "    # new partition = the old minus the largest group\n",
    "    new_partition: List[Set[Hashable]] = list(s for s in partition if s != largest_group)\n",
    "    # form subgraph made up of largest group\n",
    "    graph_of_partition: nx.Graph = nx.Graph(G.subgraph(largest_group))\n",
    "    # partition the subgraph\n",
    "    sub_partition = partition_method(graph_of_partition)\n",
    "    # add the new grups from the subgraph into the new partition\n",
    "    new_partition.extend(sub_partition)\n",
    "    return new_partition"
   ]
  },
  {
   "cell_type": "markdown",
   "metadata": {},
   "source": [
    "### Question Block B: Modularity-Based Partitions\n",
    "\n",
    "Both Newman hill climbing and the leading eigenvalue of the modularity matrix split the nodes into two sets. To find more than two groups in the partition you have to apply the algorithm again on one of the groups in the partition.\n",
    " \n",
    " Import the code from _partitioning\\_utilities_. The code is a slightly modified version of the code you played with in class.\n"
   ]
  },
  {
   "cell_type": "code",
   "execution_count": null,
   "metadata": {},
   "outputs": [],
   "source": [
    "from partitioning_utilities import Newman_hill_climbing\n",
    "from partitioning_utilities import modularity_spectral_split\n"
   ]
  },
  {
   "cell_type": "markdown",
   "metadata": {},
   "source": [
    "### Problem 4: Newman Hill-Climbing\n",
    "\n",
    "    Answer problems 4a and 4b before you run any code. Answer problems 4c and 4d after you've run code.\n",
    "\n",
    "**Problem 4a:**\n",
    "On which of the networks (affinity graph, Les Miserables graph, small world network) do you predict that Newman Hill-Climbing will work well? Justify your answer using your understanding for how hill-climbing works compared to how the Louvain algorithm works.\n",
    "\n",
    "**Problem 4b:**\n",
    "How much will your answer to problem 4a be affected by the randomness used in the hill-climbing algorithm? In other words, how sensitive is the partition found by the algorithm to randomness for the various networks?\n",
    "\n",
    "**Problem 4c:**\n",
    "Run the code in the cells below. Was your answer to question 4a correct? Why or why not?\n",
    "\n",
    "**Problem 4d:**\n",
    "Run in the code in the cells below a few times. Was your answer to question 4c correct? Why or why not?"
   ]
  },
  {
   "cell_type": "code",
   "execution_count": null,
   "metadata": {},
   "outputs": [],
   "source": [
    "G = affinity_graph\n",
    "Louvain_partition: list[set[Hashable]] = nx.community.louvain_communities(G,seed = seed)\n",
    "partition = Newman_hill_climbing(G)\n",
    "while len(partition) < len(Louvain_partition):\n",
    "    partition = sub_partition(G, partition, partition_method=Newman_hill_climbing) \n",
    "\n",
    "show_partitions(G, \n",
    "                partition=partition,\n",
    "                title=\"Newman Hill Climbing:\")"
   ]
  },
  {
   "cell_type": "markdown",
   "metadata": {},
   "source": [
    "Les Miserables graph"
   ]
  },
  {
   "cell_type": "code",
   "execution_count": null,
   "metadata": {},
   "outputs": [],
   "source": [
    "G = les_mis_graph\n",
    "Louvain_partition: list[set[Hashable]] = nx.community.louvain_communities(G,seed = seed)\n",
    "partition = Newman_hill_climbing(G)\n",
    "while len(partition) < len(Louvain_partition):\n",
    "    partition = sub_partition(G, partition,partition_method=Newman_hill_climbing) \n",
    "\n",
    "show_partitions(G, \n",
    "                partition=partition,\n",
    "                title=\"Newman Hill Climbing:\")"
   ]
  },
  {
   "cell_type": "markdown",
   "metadata": {},
   "source": [
    "Small world graph"
   ]
  },
  {
   "cell_type": "code",
   "execution_count": null,
   "metadata": {},
   "outputs": [],
   "source": [
    "G = small_world\n",
    "Louvain_partition: list[set[Hashable]] = nx.community.louvain_communities(G,seed = seed)\n",
    "partition = Newman_hill_climbing(G)\n",
    "while len(partition) < len(Louvain_partition):\n",
    "    partition = sub_partition(G, partition,partition_method=Newman_hill_climbing) \n",
    "\n",
    "show_partitions(G, \n",
    "                partition=partition,\n",
    "                title=\"Newman Hill Climbing:\")"
   ]
  },
  {
   "cell_type": "markdown",
   "metadata": {},
   "source": [
    "---"
   ]
  },
  {
   "cell_type": "markdown",
   "metadata": {},
   "source": [
    "### Problem 5: Spectral Split using the Modularity Matrix\n",
    "\n",
    "    Answer problems 5a and 5b before you run any code. Answer problems 5c and 5d after you've run code.\n",
    "\n",
    "**Problem 5a:**\n",
    "On which of the networks (affinity graph, Les Miserables graph, small world network) do you predict that modularity spectral split will work best? Justify your answer using your understanding of the leading eigenvector of the modularity matrix compared to how the Louvain algorithm works.\n",
    "\n",
    "**Problem 5b:**\n",
    "How will the partitions formed by the spectral split compare to the partitions formed by the hill-climbing algorithms\n",
    "\n",
    "**Problem 5c:**\n",
    "Run the code in the cells below. Were your answers to questions 5a and 5b correct? Why or why not?\n",
    "\n",
    "**Problem 5d:**\n",
    "Do you think it is a good idea to keep sub-partitioning the graph until it forms the same number of groups as those found by the Louvain algorithm? Why or why not? What would you use as a guideline for when to stop sub-partitioning?"
   ]
  },
  {
   "cell_type": "code",
   "execution_count": null,
   "metadata": {},
   "outputs": [],
   "source": [
    "G = affinity_graph\n",
    "Louvain_partition: list[set[Hashable]] = nx.community.louvain_communities(G,seed = seed)\n",
    "partition = modularity_spectral_split(G)\n",
    "while len(partition) < len(Louvain_partition):\n",
    "    partition = sub_partition(G, partition, partition_method=modularity_spectral_split) \n",
    "show_partitions(G, \n",
    "                partition, \n",
    "                title=\"Spectral modularity partition:\")"
   ]
  },
  {
   "cell_type": "code",
   "execution_count": null,
   "metadata": {},
   "outputs": [],
   "source": [
    "G = les_mis_graph\n",
    "Louvain_partition: list[set[Hashable]] = nx.community.louvain_communities(G,seed = seed)\n",
    "partition = modularity_spectral_split(G)\n",
    "while len(partition) < len(Louvain_partition):\n",
    "    partition = sub_partition(G, partition, partition_method=modularity_spectral_split) \n",
    "show_partitions(G, \n",
    "                partition, \n",
    "                title=\"Spectral modularity partition:\")"
   ]
  },
  {
   "cell_type": "code",
   "execution_count": null,
   "metadata": {},
   "outputs": [],
   "source": [
    "G = small_world\n",
    "Louvain_partition: list[set[Hashable]] = nx.community.louvain_communities(G,seed = seed)\n",
    "partition = modularity_spectral_split(G)\n",
    "while len(partition) < len(Louvain_partition):\n",
    "    partition = sub_partition(G, partition, partition_method=modularity_spectral_split) \n",
    "show_partitions(G, \n",
    "                partition, \n",
    "                title=\"Spectral modularity partition:\")"
   ]
  },
  {
   "cell_type": "markdown",
   "metadata": {},
   "source": [
    "---\n",
    "---"
   ]
  },
  {
   "cell_type": "markdown",
   "metadata": {},
   "source": [
    "### Question Block C: Partitions Based on Minimum Graph Cut\n",
    "\n",
    "The minimum graph cut problem doesn't try to find a partition that maximizes modularity. Rather, it tries to find a partition that minimizes the number of edges cut between partitions, while maintaining balance between the groups in the partition. To find more than two groups in the partition you have to apply the algorithm again on one of the groups in the partition.\n",
    " \n",
    " Import the code from _partitioning\\_utilities_. The code is either a slightly modified version of the code you played with in class or a straightforward implementation of finding the fiedler eigenvector as discussed in class.\n",
    "\n",
    " Import the graph cut algorithms from _partitioning\\_utilities_."
   ]
  },
  {
   "cell_type": "code",
   "execution_count": null,
   "metadata": {},
   "outputs": [],
   "source": [
    "from partitioning_utilities import kernighan_lin_bisection\n",
    "from partitioning_utilities import laplacian_graph_cut\n",
    "from partitioning_utilities import normalized_laplacian_graph_cut"
   ]
  },
  {
   "cell_type": "markdown",
   "metadata": {},
   "source": [
    "### Problem 6: Minimum Graph Cut Using the Kernigahn-Lin Algorithm\n",
    "\n",
    "    Answer problems 6a and 6b before you run any code. Answer problems 6c and 6d after you've run code.\n",
    "\n",
    "**Problem 6a:**\n",
    "For each network (affinity graph, Les Miserables graph, small world network), how well with iteratively applying the Kernighan-Lin algorithm will work to find balanced graph cuts?  On which network will it work best and why?\n",
    "\n",
    "**Problem 6b:**\n",
    "How much will randomness affect the performance of the algorithm at finding partitions that cut few graph edges? Justify your answer using your understanding of where randomness appears in the Kernighan-Lin algorithm.\n",
    "\n",
    "**Problem 6c:**\n",
    "Run the code in the cells below. Were your answers to questions 5a and 5b correct? Why or why not?\n",
    "\n",
    "**Problem 6d:**\n",
    "For the affinity network, what patterns (if any) do you see in the modularity and number of edges cut when you compare Newman's hill-climbing algoirthm to the Kernighan-Lin hill-climbing algorithm?"
   ]
  },
  {
   "cell_type": "code",
   "execution_count": null,
   "metadata": {},
   "outputs": [],
   "source": [
    "G = affinity_graph\n",
    "Louvain_partition: list[set[Hashable]] = nx.community.louvain_communities(G,seed = seed)\n",
    "partition = kernighan_lin_bisection(G)\n",
    "while len(partition) < len(Louvain_partition):\n",
    "    partition = sub_partition(G, partition, partition_method=kernighan_lin_bisection) \n",
    "show_partitions(G, \n",
    "                partition, \n",
    "                title=\"Kernighan-Lin cut:\")"
   ]
  },
  {
   "cell_type": "code",
   "execution_count": null,
   "metadata": {},
   "outputs": [],
   "source": [
    "G = les_mis_graph\n",
    "Louvain_partition: list[set[Hashable]] = nx.community.louvain_communities(G,seed = seed)\n",
    "partition = kernighan_lin_bisection(G)\n",
    "while len(partition) < len(Louvain_partition):\n",
    "    partition = sub_partition(G, partition, partition_method=kernighan_lin_bisection) \n",
    "show_partitions(G, \n",
    "                partition, \n",
    "                title=\"Kernighan-Lin cut:\")"
   ]
  },
  {
   "cell_type": "code",
   "execution_count": null,
   "metadata": {},
   "outputs": [],
   "source": [
    "G = small_world\n",
    "Louvain_partition: list[set[Hashable]] = nx.community.louvain_communities(G,seed = seed)\n",
    "partition = kernighan_lin_bisection(G)\n",
    "while len(partition) < len(Louvain_partition):\n",
    "    partition = sub_partition(G, partition, partition_method=kernighan_lin_bisection) \n",
    "show_partitions(G, \n",
    "                partition, \n",
    "                title=\"Kernighan-Lin cut:\")"
   ]
  },
  {
   "cell_type": "markdown",
   "metadata": {},
   "source": [
    "---"
   ]
  },
  {
   "cell_type": "markdown",
   "metadata": {},
   "source": [
    "### Problem 7: Spectral Graph Cut using the Laplacian and Normalized Laplacian Matrices\n",
    "\n",
    "This question is intended to help you build understanding for how the different types of Laplacians affect the types of partitions formed. Specifically, the Laplacian and normalized Laplacian try to enforce _balance_ differently for the graph cuts.\n",
    "\n",
    "Run the following three cells, which determine the graph cut using the fiedler eigenvector of the Laplacian. Note that I've hand-tuned the number of groups in the partition rather than setting it to the number of groups found by the Louvain algorithmn. "
   ]
  },
  {
   "cell_type": "code",
   "execution_count": null,
   "metadata": {},
   "outputs": [],
   "source": [
    "G = affinity_graph\n",
    "partition = laplacian_graph_cut(G)\n",
    "while len(partition) < 3:\n",
    "    partition = sub_partition(G, partition, partition_method=laplacian_graph_cut) \n",
    "show_partitions(G, \n",
    "                partition, \n",
    "                title=\"Laplacian graph cut:\")"
   ]
  },
  {
   "cell_type": "code",
   "execution_count": null,
   "metadata": {},
   "outputs": [],
   "source": [
    "G = les_mis_graph\n",
    "partition = laplacian_graph_cut(G)\n",
    "while len(partition) < 4:\n",
    "    partition = sub_partition(G, partition, partition_method=laplacian_graph_cut) \n",
    "show_partitions(G, \n",
    "                partition, \n",
    "                title=\"Laplacian graph cut:\")"
   ]
  },
  {
   "cell_type": "code",
   "execution_count": null,
   "metadata": {},
   "outputs": [],
   "source": [
    "G = small_world\n",
    "partition = laplacian_graph_cut(G)\n",
    "while len(partition) < 4:\n",
    "    partition = sub_partition(G, partition, partition_method=laplacian_graph_cut) \n",
    "show_partitions(G, \n",
    "                partition, \n",
    "                title=\"Laplacian graph cut:\")"
   ]
  },
  {
   "cell_type": "markdown",
   "metadata": {},
   "source": [
    "### Question 8: Normalized Laplacian Graph Cut\n",
    "\n",
    "The normalized Laplacian graph cut defines \"balance\" by trying to have the same number of edges in each group in a binary partition rather than trying to have the same number of nodes in each group. \n",
    "\n",
    "     Answer questions 8a, 8b, and 8c before running code in the three cells below. Answer question 8d after runnin the code in the cells.\n",
    "\n",
    "**Question 8a:**\n",
    "What do you predict will will be different in the partition for the affinity graph using the normalized Laplacian compared to the partition obtained using the standard Laplacian? Justify your answer using your understanding for how the two types of Laplacians define balance.\n",
    "\n",
    "**Question 8b:** \n",
    "Repeat question 8a for the Les Miserables graph.\n",
    "\n",
    "**Question 8c:**\n",
    "Repeat question 8c for the small world network.\n",
    "\n",
    "**Question 8d:**\n",
    "Discuss whether your predictions for questions 8a, 8b, and 8c were correct? Discuss what you learned about how different types of definitions for \"balance\" affect spectral approximations to the minimum graph cut."
   ]
  },
  {
   "cell_type": "code",
   "execution_count": null,
   "metadata": {},
   "outputs": [],
   "source": [
    "G = affinity_graph\n",
    "partition = normalized_laplacian_graph_cut(G)\n",
    "while len(partition) < 3:\n",
    "    partition = sub_partition(G, partition, partition_method=normalized_laplacian_graph_cut) \n",
    "show_partitions(G, \n",
    "                partition, \n",
    "                title=\"Normalized Laplacian graph cut:\")"
   ]
  },
  {
   "cell_type": "code",
   "execution_count": null,
   "metadata": {},
   "outputs": [],
   "source": [
    "G = les_mis_graph\n",
    "partition = normalized_laplacian_graph_cut(G)\n",
    "while len(partition) < 4:\n",
    "    partition = sub_partition(G, partition, partition_method=normalized_laplacian_graph_cut) \n",
    "show_partitions(G, \n",
    "                partition, \n",
    "                title=\"Normalized Laplacian graph cut:\")"
   ]
  },
  {
   "cell_type": "code",
   "execution_count": null,
   "metadata": {},
   "outputs": [],
   "source": [
    "G = small_world\n",
    "partition = normalized_laplacian_graph_cut(G)\n",
    "while len(partition) < 4:\n",
    "    partition = sub_partition(G, partition, partition_method=normalized_laplacian_graph_cut) \n",
    "show_partitions(G, \n",
    "                partition, \n",
    "                title=\"Normalized Laplacian graph cut:\")"
   ]
  },
  {
   "cell_type": "markdown",
   "metadata": {},
   "source": [
    "---\n",
    "---"
   ]
  },
  {
   "cell_type": "markdown",
   "metadata": {},
   "source": [
    "### Question 9: Which Algorithms Worked \"Best\"\n",
    "\n",
    "The purpose of asking the next questions is to help you consolidate the observations you've made in the homework. \n",
    "\n",
    "**Question 9a:**\n",
    "Which algorithm worked best when applied to the affinity graph? Which algorithm worked worst? How did you define best or worst? Jusitfy your answer.\n",
    "\n",
    "**Question 9b:**\n",
    "Which algorithm worked best when applied to the Les Miserables graph? Which algorithm worked worst? How did you define best or worst? Jusitfy your answer.\n",
    "\n",
    "**Question 9c:**\n",
    "Which algorithm worked best when applied to the small world graph? Which algorithm worked worst? How did you define best or worst? Jusitfy your answer."
   ]
  }
 ],
 "metadata": {
  "kernelspec": {
   "display_name": ".venv",
   "language": "python",
   "name": "python3"
  },
  "language_info": {
   "codemirror_mode": {
    "name": "ipython",
    "version": 3
   },
   "file_extension": ".py",
   "mimetype": "text/x-python",
   "name": "python",
   "nbconvert_exporter": "python",
   "pygments_lexer": "ipython3",
   "version": "3.12.5"
  }
 },
 "nbformat": 4,
 "nbformat_minor": 2
}
