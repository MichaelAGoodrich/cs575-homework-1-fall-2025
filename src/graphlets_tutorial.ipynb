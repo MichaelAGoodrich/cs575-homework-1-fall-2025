{
 "cells": [
  {
   "cell_type": "markdown",
   "metadata": {},
   "source": [
    "## Graphlets\n",
    "#### CS 575 Tutorial\n",
    "#### Winter 2025\n",
    "####\n",
    "#### Mike Goodrich\n",
    "\n",
    "Sources\n",
    "\n",
    "- Doroud, M., Bhattacharyya, P., Wu, S. F., & Felmlee, D. (2011, October). The evolution of ego-centric triads: A microscopic approach toward predicting macroscopic network properties. In 2011 IEEE Third International Conference on Privacy, Security, Risk and Trust and 2011 IEEE Third International Conference on Social Computing (pp. 172-179). IEEE.\n",
    "\n",
    "- Tu, K., Li, J., Towsley, D., Braines, D., & Turner, L. D. (2019, August). gl2vec: Learning feature representation using graphlets for directed networks. In Proceedings of the 2019 IEEE/ACM international conference on advances in social networks analysis and mining (pp. 216-221).\n",
    "\n",
    "- Copilot response to _\"Could you please give me a summary of what graphlets are in a network science context?\"_\n",
    "\n",
    "\n",
    "- [Stanford Graph Machine Learning lecture 2.1](https://www.youtube.com/watch?v=3IS7UhNMQ3U). (Click to follow link.)\n",
    "\n",
    "- The definitions of _isomorphism_ and _induced subgraph_ are taken from pages 1 and 2 in _Algebraic Graph Theory_ by C. Godsil and G. Royle (Springer 2001).\n",
    "\n",
    "---"
   ]
  },
  {
   "cell_type": "markdown",
   "metadata": {},
   "source": [
    "#### Definition of a Graphlet\n",
    "\n",
    "A graphlet is a \"small connected non-isomorphic induced subgraphs of a larger network\" [Tu et al 2019]. This definition doesn't include one element from the Stanford lecture: \"A graphlet is a **rooted** connected non-isomorphic subgraph\" [minute 19:30, emphasis added].  I've found that the union of these two definitions is the most useful. \n",
    "\n",
    "**Elements of a group of graphlets:**\n",
    "  - non-isomorphic graphs\n",
    "  - connected graphs\n",
    "  - rooted graphs\n",
    "  - induced subgraphs\n",
    "\n",
    "We'll begin with the notion of graph isomorphism.\n",
    "\n",
    "---"
   ]
  },
  {
   "cell_type": "markdown",
   "metadata": {},
   "source": [
    "#### Graphlets are Not Isomorphic\n",
    "\n",
    "Give me three nodes. There are only so many ways that I can connect these three nodes. Graphlets are the set of all \"unique\" graphs that can be made from these three nodes. You can, of course, generalize to more nodes. The term \"unique\" is defined in terms of graph isomorphisms.\n",
    "\n",
    "Some graphs are \"essentially the same\" as some others. In the language of graph theory, some graphs are _isomorphic_ to each other. I like to think of isomorphism as a way of giving vertices new names in such a way that two renamed vertices are connected if and only if the vertices are connected before they were renamed.  Let's talk about Godsil and Royle's formal definition of a graph isomorphism.\n",
    "\n",
    "Recall that a graph is a set of vertices, $V$ and a set of edges, $E$. Suppose we have two graphs, $G_1$ and $G_2$. Denote the set vertices of these two graphs by $V(G_1)$ and $V(G_2)$, respectively. Now suppose that we have a mapping $\\phi$ between the two vertex sets\n",
    "\n",
    "$$ \\phi : V(G_1) \\rightarrow V(G_2) $$\n",
    "\n",
    "and suppose that this mapping is a _bijection_ (which might easier to remember if we say it is _one-to-one and onto_). Requiring the mapping to be a bijection means that the mapping doesn't create any new vertices, it doesn't remove any vertices, and no two vertices are mapped to the same vertex. \n",
    "\n",
    "Let me give an example. Suppose $V(G_1) = \\{1,2,3\\}$ and $V(G_2) = \\{a,b,c\\}$. I gave the vertices different types of names in the hopes that this will help us differentiate between vertices in the domain of $\\phi$ and vertices in the range. The following table represents a bijection:\n",
    "\n",
    "| $v \\in V(G_1)$ | $\\phi(v) \\in V(G_2)$ |\n",
    "| :---: | :---: |\n",
    "| 1 | b |\n",
    "| 2 | c | \n",
    "| 3 | a |\n",
    "\n",
    "Notice how each vertex from graph $G_1$ is mapped to a unique vertex in graph $G_2$, and notice how each graph has the same number of vertices. Thus, $\\phi$ is a bijection from $V(G_1)$ to $V(G_2)$.\n",
    "\n",
    "---"
   ]
  },
  {
   "cell_type": "markdown",
   "metadata": {},
   "source": [
    "We can now state Godsil and Royle's definition of isomorphic graphs. Two graphs $G_1$ and $G_2$ are isomorphic if the following two conditions hold:\n",
    "\n",
    "- There exists a bijection $\\phi: V(G_1) \\rightarrow V(G_2)$\n",
    "- If two vertices $v_1$ and $v_2$ are connected in graph $G_1$ then the vertices in $G_2$ are also connected.\n",
    "\n",
    "This latter condition can be written as \n",
    "\n",
    "$$ \\big(v_1,v_2\\big) \\in E(G_1) \\leftrightarrow \\big( \\phi(v_1),\\phi(v_2)\\big ) \\in E(G_2) $$\n",
    "\n",
    "In essence, if two nodes are connected before they mapping then they are connected after the mapping. Let's illustrate with an example."
   ]
  },
  {
   "cell_type": "code",
   "execution_count": null,
   "metadata": {},
   "outputs": [],
   "source": [
    "# Using python 3.11.2\n",
    "# Isomorphism\n",
    "from matplotlib import pyplot as plt\n",
    "import networkx as nx\n",
    "\n",
    "## Define graph G1\n",
    "nodes_G1 = {1,2,3}\n",
    "edges_G1 = {(1,2),(2,3)}\n",
    "G1 = nx.DiGraph()\n",
    "G1.add_nodes_from(nodes_G1)\n",
    "G1.add_edges_from(edges_G1)\n",
    "\n",
    "## Define graph G2\n",
    "nodes_G2 = {'a','b','c'}\n",
    "edges_G2 = {('b','c'),('c','a')}\n",
    "G2 = nx.DiGraph()\n",
    "G2.add_nodes_from(nodes_G2)\n",
    "G2.add_edges_from(edges_G2)\n",
    "\n",
    "## Plot graph G1\n",
    "pos1 = nx.circular_layout(G1)\n",
    "plt.figure(1)\n",
    "plt.subplot(121)\n",
    "ax = plt.gca()\n",
    "ax.set_title(\"Graph 1\")\n",
    "nx.draw(G1,pos1,node_color = 'y', alpha = 0.5, node_size = 700, with_labels = True)\n",
    "\n",
    "## Plot graph G2\n",
    "pos2 = nx.circular_layout(G2)\n",
    "plt.subplot(122)\n",
    "ax = plt.gca()\n",
    "ax.set_title(\"Graph 2\")\n",
    "nx.draw(G2,pos2,node_color = 'm', alpha = 0.5, node_size = 700, with_labels = True)"
   ]
  },
  {
   "cell_type": "markdown",
   "metadata": {},
   "source": [
    "These two graphs are isomorphic under the following bijective mapping\n",
    "\n",
    "| $v \\in V(G_1)$ | $\\phi(v) \\in V(G_2)$ |\n",
    "| :---: | :---: |\n",
    "| 1 | b |\n",
    "| 2 | c | \n",
    "| 3 | a |\n",
    "\n",
    "but it's hard to see that in the figure. Let's redraw the second figure."
   ]
  },
  {
   "cell_type": "code",
   "execution_count": null,
   "metadata": {},
   "outputs": [],
   "source": [
    "## Plot graph G1\n",
    "pos1 = nx.circular_layout(G1)\n",
    "plt.figure(1)\n",
    "plt.subplot(121)\n",
    "ax = plt.gca()\n",
    "ax.set_title(\"Graph 1\")\n",
    "nx.draw(G1,pos1,node_color = 'y', alpha = 0.5, node_size = 700, with_labels = True)\n",
    "\n",
    "## Plot graph G2\n",
    "pos2 = nx.circular_layout(G2)\n",
    "pos2['a'] = pos1[3]\n",
    "pos2['c'] = pos1[2]\n",
    "pos2['b'] = pos1[1]\n",
    "plt.subplot(122)\n",
    "ax = plt.gca()\n",
    "ax.set_title(\"Graph 2\")\n",
    "nx.draw(G2,pos2,node_color = 'm', alpha = 0.5, node_size = 700, with_labels = True)"
   ]
  },
  {
   "cell_type": "markdown",
   "metadata": {},
   "source": [
    "Observe the following about what happens to the nodes when they are mapped:\n",
    "  - node 1 on the left gets mapped to node b on the right\n",
    "  - node 2 on the left gets mapped to node c on the right\n",
    "  - node 3 on the left gets mapped to node a on the right\n",
    "\n",
    "Above, we said that isomorphism requires that if there is an edge between two nodes before the mapping then there still needs to be an edge between the mapped nodes after the mapping. I'm going to use the word \"connectedness\" to say that there is an edge between two nodes, but be careful to not confuse this with what it means to say that a graph is connected.\n",
    "\n",
    "Observe the following about the edges of the two graphs:\n",
    "  - there is a directed edge (1,2) on the left and a directed edge (b,c) on the right, so the mapping 1-->a and 2-->c preserves connectedness\n",
    "  - there is a directed edge (2,3) on the left and a directed edge (c,a) on the right, so the mapping 2-->c and 3-->a preserves connectedness\n",
    "\n",
    "The mapping changed the names of the vertices, but vertices connected before the mapping are still connected after the mapping. Since there is a _connection preserving bijection_ between the two graphs, the two graphs are isomorphic.\n",
    "\n",
    "---"
   ]
  },
  {
   "cell_type": "markdown",
   "metadata": {},
   "source": [
    "#### Isomorphism is an Equivalence Relation\n",
    "\n",
    "Isomorphism is an equivalence relation, which means that we can sometimes treat two isomorphic graphs as if they are identical. Recall that if someone gives you an equivalence relation then you can group all equivalent objects into the same set. That set is called an _equivalence class_.\n",
    "\n",
    "Graphlets are the equivalence classes of the isomorphism relation given graphs that are built from a fixed number of vertices but whose edge set can change. Let's illustrate with a couple of examples."
   ]
  },
  {
   "cell_type": "code",
   "execution_count": null,
   "metadata": {},
   "outputs": [],
   "source": [
    "# Isomorphism\n",
    "from matplotlib import pyplot as plt\n",
    "import networkx as nx\n",
    "\n",
    "nodes: set[int] = {0,1,2}\n",
    "G = nx.DiGraph()\n",
    "G.add_nodes_from(nodes)\n",
    "pos = nx.circular_layout(G)\n",
    "ax = plt.gca()\n",
    "ax.set_title(\"three unconnected nodes form a graph\")\n",
    "nx.draw(G,pos,node_color = 'y', alpha = 0.8, node_size = 700, with_labels = True)"
   ]
  },
  {
   "cell_type": "markdown",
   "metadata": {},
   "source": [
    "We can change the names of the nodes to form a new graph. I'll do this by changing the positions of the nodes."
   ]
  },
  {
   "cell_type": "code",
   "execution_count": null,
   "metadata": {},
   "outputs": [],
   "source": [
    "tmp = pos[0]\n",
    "pos[0] = pos[1]\n",
    "pos[1] = pos[2]\n",
    "pos[2] = tmp\n",
    "colormap = dict([(node,'y') for node in list(G.nodes)])\n",
    "plt.figure(1)\n",
    "ax = plt.gca()\n",
    "ax.set_title(\"three unconnected nodes form a graph\")\n",
    "nx.draw(G,pos,node_color = 'y', alpha = 0.8, node_size = 700, with_labels = True)"
   ]
  },
  {
   "cell_type": "markdown",
   "metadata": {},
   "source": [
    "These two graphs are isomorphic since all that changed was the names of the nodes. We can represent the equivalence class of all nodes that are isomorphic to these two graphs by simply dropping the node labels."
   ]
  },
  {
   "cell_type": "code",
   "execution_count": null,
   "metadata": {},
   "outputs": [],
   "source": [
    "colormap = dict([(node,'y') for node in list(G.nodes)])\n",
    "plt.figure(1)\n",
    "ax = plt.gca()\n",
    "ax.set_title(\"representative graph from isomorphism class\")\n",
    "nx.draw(G,pos,node_color = 'y', alpha = 0.8, node_size = 700, with_labels = False)"
   ]
  },
  {
   "cell_type": "markdown",
   "metadata": {},
   "source": [
    "Let's add a single directed edge and draw a graph from this isomorphism class "
   ]
  },
  {
   "cell_type": "code",
   "execution_count": null,
   "metadata": {},
   "outputs": [],
   "source": [
    "G.add_edge(1,0)\n",
    "plt.figure(1)\n",
    "ax = plt.gca()\n",
    "ax.set_title(\"representative graph from isomorphism class\")\n",
    "nx.draw(G,pos,node_color = 'g', alpha = 0.8, node_size = 700, with_labels = False)"
   ]
  },
  {
   "cell_type": "markdown",
   "metadata": {},
   "source": [
    "The graph above represents one of the (isomorphism) equivalence classes for a directed graph with three vertices. Let's add another edge."
   ]
  },
  {
   "cell_type": "code",
   "execution_count": null,
   "metadata": {},
   "outputs": [],
   "source": [
    "# Add an edge in the opposite direction\n",
    "G = nx.DiGraph()\n",
    "G.add_nodes_from(nodes)\n",
    "G.add_edges_from([(0,1),(1,0)])\n",
    "plt.figure(1)\n",
    "ax = plt.gca()\n",
    "ax.set_title(\"representative graph from isomorphism class\")\n",
    "nx.draw_networkx_nodes(G,pos,node_color = 'b', alpha = 0.4, node_size = 700)\n",
    "_ = nx.draw_networkx_edges(G,\n",
    "                       pos,\n",
    "                       connectionstyle=\"arc3,rad=0.1\"\n",
    ")"
   ]
  },
  {
   "cell_type": "markdown",
   "metadata": {},
   "source": [
    "We now have a representative graph from a new equivalence class.\n",
    "\n",
    "We're constructing all the equivalence classes that appear in Figure 1 from Daroud et al. 2011."
   ]
  },
  {
   "cell_type": "code",
   "execution_count": null,
   "metadata": {},
   "outputs": [],
   "source": [
    "# Create the next equivalence class\n",
    "G = nx.DiGraph()\n",
    "G.add_nodes_from(nodes)\n",
    "G.add_edges_from([(0,1),(0,2)])\n",
    "plt.figure(1)\n",
    "ax = plt.gca()\n",
    "ax.set_title(\"representative graph from isomorphism class\")\n",
    "nx.draw_networkx_nodes(G,pos,node_color = 'r', alpha = 0.4, node_size = 700)\n",
    "_ = nx.draw_networkx_edges(G,\n",
    "                       pos,\n",
    "                       connectionstyle=\"arc3,rad=0.0\")"
   ]
  },
  {
   "cell_type": "markdown",
   "metadata": {},
   "source": [
    "Add one more"
   ]
  },
  {
   "cell_type": "code",
   "execution_count": null,
   "metadata": {},
   "outputs": [],
   "source": [
    "# And one more\n",
    "G = nx.DiGraph()\n",
    "G.add_nodes_from(nodes)\n",
    "G.add_edges_from([(1,0),(2,0)])\n",
    "plt.figure(1)\n",
    "ax = plt.gca()\n",
    "ax.set_title(\"representative graph from isomorphism class\")\n",
    "nx.draw_networkx_nodes(G,pos,node_color = 'orange', alpha = 0.4, node_size = 700)\n",
    "nx.draw_networkx_edges(G, \n",
    "                       pos,\n",
    "                       connectionstyle=\"arc3,rad=0.0\")"
   ]
  },
  {
   "cell_type": "markdown",
   "metadata": {},
   "source": [
    "Notice how the arrows in this figure point in the opposite direction than the arrows in the previous graph. The two graphs are not isomorphic because swapping two the names of two vertices doesn't preserve the direction of the edges.\n",
    "\n",
    "---"
   ]
  },
  {
   "cell_type": "markdown",
   "metadata": {},
   "source": [
    "If we continue building graphs that represent different equivalence classes, we end up with the following figure from Doroud et al. 2011.\n",
    "\n",
    "<img src = \"./figures/isomorphism_classes_3_node_directed_graph.png\" alt=\"set of all isomorphism classes from Figure 3.1 of Doroud et al. 2011\"/>"
   ]
  },
  {
   "cell_type": "markdown",
   "metadata": {},
   "source": [
    "Take a moment to convince yourself that none of these graphs is isomorphic to any of the other graphs. Ignore the numbering at the bottom; that's a special way of identifying the equivalence classes, and we won't use those identifiers.\n",
    "\n",
    "---"
   ]
  },
  {
   "cell_type": "markdown",
   "metadata": {},
   "source": [
    "#### Graphlets are Connected\n",
    "\n",
    "As mentioned above, the definition of a graphlet has evolved from Doroud et al.'s 2011 paper. We identifed four elements required to make up a graphlet:\n",
    "\n",
    "**Elements of a group of graphlets:**\n",
    "  - non-isomorphic graphs\n",
    "  - connected graphs\n",
    "  - rooted graphs\n",
    "  - induced subgraphs\n",
    "\n",
    "  Some of the graphs above are not connected. Let's add that to our definition and see what we produce. For the next part of the tutorial, we'll use undirected graphs.\n",
    "\n",
    "  The following code generates every possible _connected_ graph that can be created from three vertices. Using the copilot prompt \"how do i find the set of all isomorphic graphs with a four nodes in networkx\", we get the following code. \n",
    "\n",
    "I've modified the code from copilot in four ways: \n",
    "- Added type hints\n",
    "- Changed the index names so they can be either strings or ints\n",
    "- Restricted attention to connected graphs\n",
    "- Made it so that it produced the graphlets composed of nodes passed to the function in the `nodes` list\n",
    "\n",
    "Notice lines 16 and 17. They say that only connected graphs can be graphlets."
   ]
  },
  {
   "cell_type": "code",
   "execution_count": 72,
   "metadata": {},
   "outputs": [],
   "source": [
    "import networkx as nx\n",
    "from itertools import combinations\n",
    "from typing import  Union\n",
    "\n",
    "def find_all_unrooted_graphlets(nodes: list[Union[str,int]]) -> list[nx.Graph]:\n",
    "    all_graphs = []\n",
    "    # Generate all possible edges\n",
    "    possible_edges = list(combinations(nodes, 2))\n",
    "\n",
    "    # Generate all possible graphs\n",
    "    for i in range(2**len(possible_edges)):\n",
    "        edges = [possible_edges[j] for j in range(len(possible_edges)) if (i >> j) & 1]\n",
    "        G = nx.Graph()\n",
    "        G.add_nodes_from(nodes)\n",
    "        G.add_edges_from(edges)\n",
    "        if nx.is_connected(G):\n",
    "            all_graphs.append(G)\n",
    "\n",
    "    ## Only keep one subgraph from each isomorphism class ##\n",
    "    unique_graphs = []\n",
    "\n",
    "    for G in all_graphs:\n",
    "        if not any(nx.is_isomorphic(G, H) for H in unique_graphs):\n",
    "            unique_graphs.append(G)\n",
    "    return unique_graphs"
   ]
  },
  {
   "cell_type": "markdown",
   "metadata": {},
   "source": [
    "I'm going to want to show sets of graphs a lot, so it's worth writing a helper function."
   ]
  },
  {
   "cell_type": "code",
   "execution_count": 73,
   "metadata": {},
   "outputs": [],
   "source": [
    "import numpy as np\n",
    "from typing import Union\n",
    "def show_graphs_in_a_set(graphs: list[nx.Graph], \n",
    "                         labels: dict[Union[str, int], str] = {},\n",
    "                         num_cols: int = 4) -> None:\n",
    "    if num_cols < 1:\n",
    "        raise ValueError \n",
    "    colors: list[str] = ['y', 'lightblue', 'lightgray', 'salmon', \n",
    "                         'aquamarine', 'lightpink', 'violet', 'linen']\n",
    "\n",
    "    num_cols: int = min(num_cols, len(graphs)) # no more columns than graphlets\n",
    "    num_rows: int = int(np.ceil(len(graphs)/num_cols))\n",
    "    _, axs = plt.subplots(num_rows, num_cols, \n",
    "                          figsize = (2*num_cols, 2*num_rows))\n",
    "    \n",
    "    for count in range(num_rows * num_cols):\n",
    "        ### Choose the right axis format depending on how many graphs there are to plot\n",
    "        if num_rows == 1 and num_cols == 1:\n",
    "            axis = plt.gca()\n",
    "        elif num_rows == 1 and num_cols > 1:\n",
    "            col = count%num_cols\n",
    "            axis = axs[col]\n",
    "        else:\n",
    "            col = count%num_cols\n",
    "            row = int(np.floor(count/num_cols))\n",
    "            axis = axs[row,col]\n",
    "        \n",
    "        ### If there are more spots in the grid layout than there are graphs then make some blank\n",
    "        if count >= len(graphs):\n",
    "            axis.set_visible(False)\n",
    "            continue\n",
    "\n",
    "        ### Choose a circular layout because that makes it easy to see the nodes and edges for small graphs\n",
    "        pos = nx.circular_layout(graphs[count])\n",
    "        \n",
    "        if len(labels) == 0:\n",
    "            nx.draw(graphs[count], \n",
    "                        pos,\n",
    "                        ax=axis, \n",
    "                        node_color=colors[count%len(colors)], \n",
    "                        alpha = 0.8, \n",
    "                        node_size = 300)\n",
    "        else:\n",
    "            sublabels = {node: label for node, label in labels.items() if node in graphs[count].nodes() }\n",
    "            nx.draw(graphs[count], \n",
    "                        pos,\n",
    "                        ax=axis, \n",
    "                        node_color=colors[count%len(colors)], \n",
    "                        alpha = 0.8, \n",
    "                        node_size = 300,\n",
    "                        labels = sublabels)\n",
    "            #sublabels = {node: label for node, label in labels.items() if node in graphs[count].nodes() }\n",
    "            #nx.draw_networkx_labels(graphs[count], pos, sublabels, font_size=12)\n",
    "        axis.set_xlim(-1.2, 1.2)\n",
    "        axis.set_ylim(-1.2, 1.2)\n",
    "        axis.set_aspect('equal')"
   ]
  },
  {
   "cell_type": "markdown",
   "metadata": {},
   "source": [
    "Collect all the graphlets for a graph with three vertices"
   ]
  },
  {
   "cell_type": "code",
   "execution_count": null,
   "metadata": {},
   "outputs": [],
   "source": [
    "graphlets = find_all_unrooted_graphlets(['A', 'B', 'C'])\n",
    "show_graphs_in_a_set(graphlets, num_cols=4)"
   ]
  },
  {
   "cell_type": "markdown",
   "metadata": {},
   "source": [
    "To help build intuition, we can do the same exercise for graphs with two vertices ..."
   ]
  },
  {
   "cell_type": "code",
   "execution_count": null,
   "metadata": {},
   "outputs": [],
   "source": [
    "graphlets = find_all_unrooted_graphlets(['A', 'B'])\n",
    "show_graphs_in_a_set(graphlets, num_cols=4)"
   ]
  },
  {
   "cell_type": "markdown",
   "metadata": {},
   "source": [
    "... and four vertices."
   ]
  },
  {
   "cell_type": "code",
   "execution_count": null,
   "metadata": {},
   "outputs": [],
   "source": [
    "graphlets = find_all_unrooted_graphlets(['A', 'B', 'C', 'D'])\n",
    "show_graphs_in_a_set(graphlets, num_cols=3)"
   ]
  },
  {
   "cell_type": "markdown",
   "metadata": {},
   "source": [
    "Notice how none of the graphs above look like the others. Our \"pattern-matching brains\" naturally differentiate between the different isomorphism classes when graphs are simple to draw.\n",
    "\n",
    "---"
   ]
  },
  {
   "cell_type": "markdown",
   "metadata": {},
   "source": [
    "#### Graphlets are Rooted Graphs\n",
    "\n",
    "Recall the four elements of a group of graphlets:\n",
    "\n",
    "**Elements of a group of graphlets:**\n",
    "  - non-isomorphic graphs\n",
    "  - connected graphs\n",
    "  - rooted graphs\n",
    "  - induced subgraphs\n",
    "\n",
    "  Looking at all the possible three node subgraphs of a particular graph will help us understand what it means for two _rooted graphs_ to be isomorphic. Let's create a simple graph that we can use to guide the discussion. "
   ]
  },
  {
   "cell_type": "code",
   "execution_count": null,
   "metadata": {},
   "outputs": [],
   "source": [
    "import networkx as nx \n",
    "import matplotlib.pyplot as plt\n",
    "\n",
    "G = nx.Graph()\n",
    "G.add_nodes_from({'A','B','C','D','E','F','G'})\n",
    "G.add_edges_from({('A','B'),('A','C'),('A','D'),('A','E'),('D','C'), ('B','G'), ('F','E')})\n",
    "pos = nx.fruchterman_reingold_layout(G)\n",
    "nx.draw(G,pos,node_color='y', alpha = 0.8, node_size = 700, with_labels = True)\n",
    "plt.xlim(-1.2,1.2)\n",
    "plt.ylim(-1.2,1.2)"
   ]
  },
  {
   "cell_type": "markdown",
   "metadata": {},
   "source": [
    "We can write a utility that finds all the connected subgraphs of a particular graph that contain a specific vertex."
   ]
  },
  {
   "cell_type": "code",
   "execution_count": 78,
   "metadata": {},
   "outputs": [],
   "source": [
    "import networkx as nx\n",
    "from itertools import combinations\n",
    "\n",
    "def find_subgraphs_containing_vertex(G: nx.Graph, \n",
    "                              size: int, \n",
    "                              vertex: str) -> None:\n",
    "    graphlets: list[nx.Graph] = []\n",
    "    for nodes in combinations(G.nodes(), size):\n",
    "        if vertex not in set(nodes):  # Skip subgraphs that don't contain the target vertes\n",
    "            continue\n",
    "        subgraph: nx.Graph = G.subgraph(nodes)\n",
    "        if nx.is_connected(subgraph):\n",
    "            graphlets.append(subgraph)\n",
    "    return graphlets"
   ]
  },
  {
   "cell_type": "markdown",
   "metadata": {},
   "source": [
    "Find all three-node subgraphs that contain vertex `A`."
   ]
  },
  {
   "cell_type": "code",
   "execution_count": null,
   "metadata": {},
   "outputs": [],
   "source": [
    "graphs = find_subgraphs_containing_vertex(G, 3, 'A')\n",
    "labels: dict[str, str] = {vertex: vertex for vertex in G.nodes()}\n",
    "show_graphs_in_a_set(graphs, labels)"
   ]
  },
  {
   "cell_type": "markdown",
   "metadata": {},
   "source": [
    "As the use of graphlets has evolved, people have found it useful to differentiate\n",
    "- not only between the subgraph with three edges and every other subgraph\n",
    "- but also between different types of the two-edge subgraph.\n",
    "\n",
    "Note that there are five two-edge subgraphs where node `A` is between the other two nodes, and two two-edge subgraphs where node `A` is on one of the ends. \n",
    "\n",
    "The key observation is that the location of vertex `A` in the subgraph matters. If call node `A` the _root_ node, then we need to find a way to say that the two subgraph patterns are not isomorphic if we care about the location of vertex `A`.\n",
    "\n",
    "Let's look at a solution, and then we'll explain what is going on. "
   ]
  },
  {
   "cell_type": "code",
   "execution_count": 80,
   "metadata": {},
   "outputs": [],
   "source": [
    "import networkx as nx\n",
    "from itertools import combinations\n",
    "import networkx.algorithms.isomorphism as iso\n",
    "\n",
    "\"\"\" Portions of this code were obtained using prompts from \n",
    "    copilot. I made a mistake and didn't required the series\n",
    "    of prompts so I can't document them properly. All I can \n",
    "    say is that the prompts were about finding isomorphic\n",
    "    rooted graphs\"\"\"\n",
    "\n",
    "def rooted_is_isomorphic(G1, G2, root):\n",
    "    GM = iso.GraphMatcher(G1, G2)\n",
    "    if GM.is_isomorphic():\n",
    "        for mapping in GM.isomorphisms_iter():\n",
    "            if mapping[root] == root:\n",
    "                return True\n",
    "    return False\n",
    "\n",
    "def find_all_graphlets(nodes: list[str],\n",
    "                       root) -> list[nx.Graph]:\n",
    "    all_graphs = []\n",
    "    # Generate all possible edges\n",
    "    possible_edges = list(combinations(nodes, 2))\n",
    "\n",
    "    # Generate all possible graphs\n",
    "    for i in range(2**len(possible_edges)):\n",
    "        edges = [possible_edges[j] for j in range(len(possible_edges)) if (i >> j) & 1]\n",
    "        G = nx.Graph()\n",
    "        G.add_nodes_from(nodes)\n",
    "        G.add_edges_from(edges)\n",
    "        if nx.is_connected(G):\n",
    "            all_graphs.append(G)\n",
    "\n",
    "    ## Only keep one subgraph from each isomorphism class ##\n",
    "    unique_graphs = []\n",
    "    for G in all_graphs:\n",
    "        if not any(rooted_is_isomorphic(G, H, root) for H in unique_graphs):\n",
    "            unique_graphs.append(G)\n",
    "    return unique_graphs\n"
   ]
  },
  {
   "cell_type": "markdown",
   "metadata": {},
   "source": [
    "The key difference between this version of finding all graphlets and the previous versio is in linke 37. In this version of the code, the key function is \n",
    "\n",
    "`if not any(rooted_is_isomorphic(G, H, root))`. \n",
    "\n",
    "In the other version, the corresponding line of code was\n",
    "\n",
    "`if not any(nx.is_isomorphic(G, H))`.\n",
    "\n",
    "The old version didn't care about the location of the _root_ vertex, but the new version does care.\n",
    "\n",
    "Let's look at the pictures of the graphlets returned from this function."
   ]
  },
  {
   "cell_type": "code",
   "execution_count": null,
   "metadata": {},
   "outputs": [],
   "source": [
    "graphlets = find_all_graphlets(['A', 'B', 'C'], 'A')\n",
    "labels = {'A': 'A'}\n",
    "show_graphs_in_a_set(graphlets, labels)"
   ]
  },
  {
   "cell_type": "markdown",
   "metadata": {},
   "source": [
    "Observe how the set of graphlets now contains three graphs: one that is fully connected, one with vertex `A` on between the other two vertices, and one with vertex `A` as an end point.\n",
    "\n",
    "The key function call was\n",
    "\n",
    "`if not any(rooted_is_isomorphic(G, H, root))`\n",
    "\n",
    "which is a function defined above, but repeated here so we can talk about it."
   ]
  },
  {
   "cell_type": "code",
   "execution_count": 82,
   "metadata": {},
   "outputs": [],
   "source": [
    "import networkx.algorithms.isomorphism as iso\n",
    "def rooted_is_isomorphic(G1, G2, root):\n",
    "    GM = iso.GraphMatcher(G1, G2)\n",
    "    if GM.is_isomorphic():\n",
    "        for mapping in GM.isomorphisms_iter():\n",
    "            if mapping[root] == root:\n",
    "                return True\n",
    "    return False"
   ]
  },
  {
   "cell_type": "markdown",
   "metadata": {},
   "source": [
    "The workhorse of this code is the function `GM = iso.GraphMatcher(G1, G2, root)`. This function, which will run really slowly for graphs with a lot of vertices, creates an object of type `GraphMatcher`. Calling the class member function `GM.is_isomorphic()` returns true of the two graphs are isomorphic. So that's good.\n",
    "\n",
    "`GraphMatcher` does a lot more than just determine whether two graphs are isomorphic. It is also capable of finding every isomorphism mapping between the two graphs. We'll need to return to the definition of a isomorphism to understand what it means to \"find every isomorphism mapping\". \n",
    "\n",
    "Godsil and Royle's definition of isomorphic graphs says that graphs $G_1$ and $G_2$ are isomorphic if the following two conditions hold:\n",
    "\n",
    "- There exists a bijection $\\phi: V(G_1) \\rightarrow V(G_2)$\n",
    "- If two vertices $v_1$ and $v_2$ are connected in graph $G_1$ then the vertices in $G_2$ are also connected.\n",
    "\n",
    "This latter condition can be written as \n",
    "\n",
    "$$ \\big(v_1,v_2\\big) \\in E(G_1) \\leftrightarrow \\big( \\phi(v_1),\\phi(v_2)\\big ) \\in E(G_2) $$\n",
    "\n",
    "The phrase \"fine every isomorphism mapping\" means that the `GraphMatcher.isomorphisms_iter()` finds a mapping $phi$ that satisfies the two conditions, then finds a different mapping, and so on. \n",
    "\n",
    "What we are going to look for is an isomorphism mapping $\\phi$ that has the special property that the root vertex is in the same location, relative to the edges in the graph, in both graphs. This means that $\\phi({\\rm root}) = {\\rm root}$. The line `if mapping[root] == root` implements this check for us. \n",
    "\n",
    "And here's the key observation: if there is an isomorphism mapping $\\phi$ that satisfies $\\phi({\\rm root}) = {\\rm root}$ then that tells us that the two graphs are _isomorphic_ and that the _root vertex is in the same location in both graphs_. If not such mapping can be found, the two graphs, though possible isomorphic, do not satisfy the property that one can be mapped to the other without moving the root vertex. \n",
    "\n",
    "---"
   ]
  },
  {
   "cell_type": "markdown",
   "metadata": {},
   "source": [
    "Let's build intuition by looking at the set of unrooted graphlets again and comparing them to the set of rooted graphlets."
   ]
  },
  {
   "cell_type": "code",
   "execution_count": null,
   "metadata": {},
   "outputs": [],
   "source": [
    "### Unrooted \n",
    "four_node_graphlets = find_all_unrooted_graphlets(['A', 'B', 'C', 'D'])\n",
    "show_graphs_in_a_set(four_node_graphlets, num_cols=4)"
   ]
  },
  {
   "cell_type": "markdown",
   "metadata": {},
   "source": [
    "And now rooted"
   ]
  },
  {
   "cell_type": "code",
   "execution_count": null,
   "metadata": {},
   "outputs": [],
   "source": [
    "four_node_graphlets = find_all_graphlets(['A', 'B', 'C', 'D'], 'A')\n",
    "labels = {'A': 'A'}\n",
    "show_graphs_in_a_set(four_node_graphlets, labels)"
   ]
  },
  {
   "cell_type": "markdown",
   "metadata": {},
   "source": [
    "Look at how many more graphlets there are. And that is why people use rooted graphs to create their graphlets, because rooted graphlets offer more ways to talk about what the graph around a specific vertex looks like! \n",
    "\n",
    "\n",
    "---"
   ]
  },
  {
   "cell_type": "markdown",
   "metadata": {},
   "source": [
    "#### Graphlets are Induced Subgraphs\n",
    "\n",
    "We've figured out three of the four requirements of a graphlet.\n",
    "\n",
    "**Elements of a group of graphlets:**\n",
    "  - non-isomorphic graphs\n",
    "  - connected graphs\n",
    "  - rooted graphs\n",
    "  - induced subgraphs\n",
    "\n",
    "  We can now talk about _induced subgraphs_. Let's return to the set of all three vertex subgraphs found in our example graph. Here's the example graph again:"
   ]
  },
  {
   "cell_type": "code",
   "execution_count": null,
   "metadata": {},
   "outputs": [],
   "source": [
    "pos = nx.fruchterman_reingold_layout(G)\n",
    "nx.draw(G,pos,node_color='y', alpha = 0.8, node_size = 700, with_labels = True)\n",
    "plt.xlim(-1.2,1.2)\n",
    "plt.ylim(-1.2,1.2)"
   ]
  },
  {
   "cell_type": "markdown",
   "metadata": {},
   "source": [
    "And here are the sets of all three-node subgraphs containing vertex `A`."
   ]
  },
  {
   "cell_type": "code",
   "execution_count": null,
   "metadata": {},
   "outputs": [],
   "source": [
    "graphs = find_subgraphs_containing_vertex(G, 3, 'A')\n",
    "labels: dict[str, str] = {vertex: vertex for vertex in G.nodes()}\n",
    "show_graphs_in_a_set(graphs, labels)"
   ]
  },
  {
   "cell_type": "markdown",
   "metadata": {},
   "source": [
    "Look at the subgraph containing vertices `A`, `C`, and `D`. Notice how the original graph has these three vertices connected to each other too. But wouldn't it be accurate to say that those three vertices are also part of a subgraphs `A-C-D`, `A-D-C`, and `C-A-D`. Read the dashes in this notation as a representation of an edge between the vertices. Why don't those _triplet_ graphs show up in the set of subgraphs?\n",
    "\n",
    "Before we give the mathematical reason, which will define what it means to be an _induced subgraph_, let's talk about why we are doing all this work. Recall from class that the _local clustering coefficent_ told us the number of _triads_ that a vertex was in divided by the number of _triplets_ that the vertex was in. Here's a screen shot from a class slide.\n",
    "\n",
    "<img src = \"./figures/triples_and_triads.png\" alt=\"triples and triads from class slides\"/>\n",
    "\n",
    "Knowing that a graph is part of a triad tells us a lot about what is happening around the graph, so when we should say that a vertex is part of a triad and not just just part of a triplet involving the same vertices.\n",
    "\n",
    "That's why the triad containing vertices `A`, `C`, and `D` is part of the important three-vertex subgraphs containing vertex `A`, and none of the triplet subgraps `A-C-D`, `A-D-C`, and `C-A-D` are.\n",
    "\n",
    "---"
   ]
  },
  {
   "cell_type": "markdown",
   "metadata": {},
   "source": [
    "**Mathematical Definition of an Induced Subgraph**\n",
    "\n",
    "An induced subgraph is a special type of subgraph. Consider graph $G_2$ and another graph $G_1$. Recall that graph $G_1$ is a subgraph of $G_2$ if\n",
    "\n",
    "  - $V(G_1) \\subseteq V(G_2)$, and\n",
    "  - $E(G_1) \\subseteq E(G_2)$\n",
    "\n",
    "Essentially, a subgraph is made up of the parts (vertices and edges) of another graph.\n",
    "\n",
    "An _induced subgraph adds a third condition\n",
    "\n",
    "  - $\\forall u,v \\in V(G_1)\\ \\  (u,v) \\in E(G_2) \\Rightarrow (u,v) \\in E(G_1)$\n",
    "\n",
    "In words, if the subgraph $G_1$ has two nodes that were connected in $G_2$ then $G_1$ is an _induced subgraph of $G_2$_ only if the two nodes are also connected in $G_1$. \n",
    "\n",
    "In the original graph, a subgraph made up of nodes $A$, $C$, and $D$ is an induced subgraph only if it contains the edges $\\{A,C\\}$, $\\{C,D\\}$, and $\\{A,D\\}$. Thus, the induced subgraph containing these three nodes is a triad. Relying on induced subgraphs automatically tells us when a node is part of a triad and not just a triplet.\n"
   ]
  },
  {
   "cell_type": "markdown",
   "metadata": {},
   "source": [
    "And here's where we were lucky. The code for finding all the three-node subgraphs used the following line: `subgraph: nx.Graph = G.subgraph(nodes)`. It's easy to miss, but the networkx function `G.subgraph` returns the _induced subgraph_ of graph `G` that contains the nodes in the list. We got the induced subgraphs without even trying!\n",
    "\n",
    "---\n",
    "---\n"
   ]
  },
  {
   "cell_type": "markdown",
   "metadata": {},
   "source": [
    "### Using Graphlets\n",
    "\n",
    "The purpose of this (very long) discussion is because graphlets tell us about the local graph structures that surround a node in a given graph. What we'll do is choose a node and count how many of the possible graphlets the subgraphs containing that node belongs too.\n",
    "\n",
    "We can illustrate with an example. It's helpful to have a drawing routine that show the graph in a bright color that is different from the colors of our graphlets."
   ]
  },
  {
   "cell_type": "code",
   "execution_count": 87,
   "metadata": {},
   "outputs": [],
   "source": [
    "from typing import Callable\n",
    "def show_graph(G: nx.Graph, \n",
    "               title:str, \n",
    "               labels: dict[str, str],\n",
    "               layout: Callable = nx.circular_layout,\n",
    "               size = 2,\n",
    "               node_color = 'cyan') -> None:\n",
    "    _ = plt.figure(figsize = (size,size))\n",
    "    pos = layout(G)\n",
    "    nx.draw(G, \n",
    "                pos, \n",
    "                node_color=node_color, \n",
    "                alpha = 0.8, \n",
    "                node_size = 300, \n",
    "                labels = labels)\n",
    "    ax = plt.gca()\n",
    "    ax.set_xlim(-1.2, 1.2)\n",
    "    ax.set_ylim(-1.2, 1.2)\n",
    "    ax.set_aspect('equal')\n",
    "    ax.set_title(title)"
   ]
  },
  {
   "cell_type": "markdown",
   "metadata": {},
   "source": [
    "We'll use the same example graph"
   ]
  },
  {
   "cell_type": "code",
   "execution_count": null,
   "metadata": {},
   "outputs": [],
   "source": [
    "labels: dict[str, str] = {vertex: vertex for vertex in G.nodes()}\n",
    "show_graph(G,\n",
    "           title = 'example graph', \n",
    "           labels = {vertex: vertex for vertex in G.nodes()},\n",
    "           layout = nx.spring_layout,\n",
    "           size = 3,\n",
    "           node_color='y')"
   ]
  },
  {
   "cell_type": "markdown",
   "metadata": {},
   "source": [
    "Let's find all graphlets that contain two nodes or three nodes."
   ]
  },
  {
   "cell_type": "code",
   "execution_count": null,
   "metadata": {},
   "outputs": [],
   "source": [
    "two_node_graphlets = find_all_graphlets(['A', 'B'], 'A')\n",
    "labels = {'A': 'A'}\n",
    "show_graphs_in_a_set(two_node_graphlets, labels)"
   ]
  },
  {
   "cell_type": "markdown",
   "metadata": {},
   "source": [
    "And repeat for three node graphlets"
   ]
  },
  {
   "cell_type": "code",
   "execution_count": null,
   "metadata": {},
   "outputs": [],
   "source": [
    "three_node_graphlets = find_all_graphlets(['A', 'B', 'C'], 'A')\n",
    "labels = {'A': 'A'}\n",
    "show_graphs_in_a_set(three_node_graphlets, labels)"
   ]
  },
  {
   "cell_type": "markdown",
   "metadata": {},
   "source": [
    "And repeate for four node graphlets"
   ]
  },
  {
   "cell_type": "code",
   "execution_count": null,
   "metadata": {},
   "outputs": [],
   "source": [
    "four_node_graphlets = find_all_graphlets(['A', 'B', 'C', 'D'], 'A')\n",
    "labels = {'A': 'A'}\n",
    "show_graphs_in_a_set(four_node_graphlets, labels)"
   ]
  },
  {
   "cell_type": "markdown",
   "metadata": {},
   "source": [
    "We'll now find all subgraphs of our example graphs that have two nodes and that contain vertex `A`. And we'll repeat for three node subgraphs and four node subgraphs."
   ]
  },
  {
   "cell_type": "code",
   "execution_count": null,
   "metadata": {},
   "outputs": [],
   "source": [
    "two_node_subgraphs = find_subgraphs_containing_vertex(G, 2, 'A')\n",
    "three_node_subgraphs = find_subgraphs_containing_vertex(G, 3, 'A')\n",
    "four_node_subgraphs = find_subgraphs_containing_vertex(G, 4, 'A')\n",
    "labels = {node: node for node in G.nodes()}\n",
    "show_graphs_in_a_set(two_node_subgraphs, labels)"
   ]
  },
  {
   "cell_type": "markdown",
   "metadata": {},
   "source": [
    "Each of these subgraphs are isomorphic to the two-node graphlets, so we say that node `A` is part of four subgraphs that are isomorphic to the one two-node graphlet. In code, we can visualize this by iterating through each graphlet type and show how many of the different subgraphs of the example graph are isomorphic to the graphlet type. For the two-node graph, this is easy."
   ]
  },
  {
   "cell_type": "code",
   "execution_count": null,
   "metadata": {},
   "outputs": [],
   "source": [
    "count: int = 0\n",
    "graphlet_type_count_dict: dict[int, int] = dict()\n",
    "root = 'A'\n",
    "for graphlet in two_node_graphlets:\n",
    "    show_graph(graphlet, \n",
    "               title = f\"Two-Node Graphlet type {count}\",\n",
    "               labels = {root: root})\n",
    "    graphs_of_graphlet_type = []\n",
    "    for H in two_node_subgraphs:\n",
    "        if rooted_is_isomorphic(H, graphlet, root):\n",
    "            graphs_of_graphlet_type.append(H)\n",
    "    graphlet_type_count_dict[count] = len(graphs_of_graphlet_type)\n",
    "    count += 1\n",
    "    if len(graphs_of_graphlet_type) > 0:\n",
    "        show_graphs_in_a_set(graphs_of_graphlet_type, labels)"
   ]
  },
  {
   "cell_type": "markdown",
   "metadata": {},
   "source": [
    "It gets more interesting when we look at three node graphlets. We'll continue by indexing each three node graphlet using the same counter."
   ]
  },
  {
   "cell_type": "code",
   "execution_count": null,
   "metadata": {},
   "outputs": [],
   "source": [
    "root = 'A'\n",
    "for graphlet in three_node_graphlets:\n",
    "    show_graph(graphlet, \n",
    "               title = f\"Three-Node Graphlet type {count}\",\n",
    "               labels = {root: root})\n",
    "    graphs_of_graphlet_type = []\n",
    "    for H in three_node_subgraphs:\n",
    "        if rooted_is_isomorphic(H, graphlet, root):\n",
    "            graphs_of_graphlet_type.append(H)\n",
    "    graphlet_type_count_dict[count] = len(graphs_of_graphlet_type)\n",
    "    count += 1\n",
    "    if len(graphs_of_graphlet_type) > 0:\n",
    "        show_graphs_in_a_set(graphs_of_graphlet_type, labels)"
   ]
  },
  {
   "cell_type": "markdown",
   "metadata": {},
   "source": [
    "So vertex `A` has a count of 4 type 0 graphlets, 5 type 1 graphlets, two type 2 graphlets, and one type 3 graphlet. \n",
    "\n",
    "Continuing with four node graphlets."
   ]
  },
  {
   "cell_type": "code",
   "execution_count": null,
   "metadata": {},
   "outputs": [],
   "source": [
    "root = 'A'\n",
    "for graphlet in four_node_graphlets:\n",
    "    show_graph(graphlet, \n",
    "               title = f\"Four-Node Graphlet type {count}\",\n",
    "               labels = {root: root})\n",
    "    graphs_of_graphlet_type = []\n",
    "    for H in four_node_subgraphs:\n",
    "        if rooted_is_isomorphic(H, graphlet, root):\n",
    "            graphs_of_graphlet_type.append(H)\n",
    "    graphlet_type_count_dict[count] = len(graphs_of_graphlet_type)\n",
    "    count += 1\n",
    "    if len(graphs_of_graphlet_type) > 0:\n",
    "        show_graphs_in_a_set(graphs_of_graphlet_type, labels)"
   ]
  },
  {
   "cell_type": "code",
   "execution_count": null,
   "metadata": {},
   "outputs": [],
   "source": [
    "print(list(graphlet_type_count_dict.values()))"
   ]
  },
  {
   "cell_type": "markdown",
   "metadata": {},
   "source": [
    "If we list the number of each graphlet type for vertex `A` in a list, we get the _graphlet count vector_, given by:\n",
    "\n",
    "$v_{\\rm graphlet} = [4, 5, 2, 1, 2, 6, 2, 0, 0, 0, 0, 0, 0, 0, 0]$\n",
    "\n",
    "This graphlet vector is a view into the local graph structures surrounding vertex `A`. \n",
    "\n",
    "The homework problem will have you find the graphlet vector for a couple of nodes and graphlet types for the butterfly graph.\n",
    "\n",
    "--"
   ]
  },
  {
   "cell_type": "markdown",
   "metadata": {},
   "source": [
    "#### Homework problems 1-3"
   ]
  },
  {
   "cell_type": "code",
   "execution_count": null,
   "metadata": {},
   "outputs": [],
   "source": [
    "G = nx.Graph()\n",
    "G.add_edges_from([('A','B'),('B','C'),('C','A'),\n",
    "                  ('D','E'),('E','F'),('F','D'),\n",
    "                  ('G','H'),('H','I'),('I','G'),\n",
    "                  ('J','K'),('K','L'),('L','J'),\n",
    "                  ('C','M'),('F','M'),('N','L'),('N','I'),\n",
    "                  ('M','N')])\n",
    "show_graph(G,\n",
    "           title = \"butterfly graph\",\n",
    "           labels = {vertex: vertex for vertex in G.nodes()},\n",
    "           layout=nx.spring_layout,\n",
    "           size = 4,\n",
    "           node_color='y')"
   ]
  }
 ],
 "metadata": {
  "kernelspec": {
   "display_name": ".venv",
   "language": "python",
   "name": "python3"
  },
  "language_info": {
   "codemirror_mode": {
    "name": "ipython",
    "version": 3
   },
   "file_extension": ".py",
   "mimetype": "text/x-python",
   "name": "python",
   "nbconvert_exporter": "python",
   "pygments_lexer": "ipython3",
   "version": "3.12.5"
  }
 },
 "nbformat": 4,
 "nbformat_minor": 2
}
