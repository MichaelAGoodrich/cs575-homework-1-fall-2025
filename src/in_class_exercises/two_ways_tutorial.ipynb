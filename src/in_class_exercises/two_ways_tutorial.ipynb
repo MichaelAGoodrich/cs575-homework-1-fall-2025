{
 "cells": [
  {
   "cell_type": "markdown",
   "metadata": {},
   "source": [
    "Many of the ideas in this tutorial are simplified versions of what is discussed in \n",
    "\n",
    "```\n",
    "    Priebe, C. E., Park, Y., Vogelstein, J. T., Conroy, J. M., Lyzinski, V., Tang, M., ... & Bridgeford, E. (2019). On a two-truths phenomenon in spectral graph clustering. Proceedings of the National Academy of Sciences, 116(13), 5995-6000.\n",
    "```"
   ]
  },
  {
   "cell_type": "markdown",
   "metadata": {},
   "source": [
    "Create an affinity network"
   ]
  },
  {
   "cell_type": "code",
   "execution_count": null,
   "metadata": {},
   "outputs": [],
   "source": [
    "##############\n",
    "### Cell 1 ###\n",
    "##############\n",
    "\n",
    "## REQUIRES pip install scikit-learn\n",
    "\n",
    "from drawing_utilities import show_dendrogram\n",
    "from drawing_utilities import show_partitions\n",
    "from drawing_utilities import show_kCores\n",
    "from drawing_utilities import show_kCores_by_partition\n",
    "from drawing_utilities import show_2D_scatterplot\n",
    "from partitioning_utilities import get_k_fiedler_eigenvectors_sparse\n",
    "from partitioning_utilities import get_k_leading_eigenvectors_sparse\n",
    "from partitioning_utilities import get_colors_from_clusters\n",
    "import networkx as nx\n",
    "\n",
    "%load_ext autoreload\n",
    "\n",
    "a = 0.4\n",
    "b = 0.1\n",
    "c = 0.4\n",
    "num_nodes: int = 30\n",
    "G: nx.Graph = nx.stochastic_block_model([num_nodes,num_nodes],[[a, b],[b,c]])\n",
    "\n",
    "partition_dict: dict[int, set[int]] = {0: set(), 1: set()}\n",
    "for node in G.nodes():\n",
    "    if node < num_nodes:\n",
    "        partition_dict[0].add(node)\n",
    "    else:\n",
    "        partition_dict[1].add(node)\n",
    "partition: list[set[int]] = list(partition_dict.values())\n",
    "\n",
    "show_partitions(G, partition, title=\"Two class affinity network with true classes:\\n\")"
   ]
  },
  {
   "cell_type": "markdown",
   "metadata": {},
   "source": [
    "Look at dendrogram"
   ]
  },
  {
   "cell_type": "code",
   "execution_count": null,
   "metadata": {},
   "outputs": [],
   "source": [
    "##############\n",
    "### Cell 2 ###\n",
    "##############\n",
    "import networkx as nx\n",
    "from copy import deepcopy\n",
    "def largest_component(graph):\n",
    "    # Find all connected components\n",
    "    H = deepcopy(graph)\n",
    "    components = nx.connected_components(H)\n",
    "    # Get the largest component\n",
    "    largest = max(components, key=len)\n",
    "    H = deepcopy(H.subgraph(largest))\n",
    "    mapping = {old_label: new_label for new_label, old_label in enumerate(G.nodes())}\n",
    "    H = nx.relabel_nodes(H, mapping)\n",
    "    return H\n",
    "\n",
    "H = largest_component(G)\n",
    "show_dendrogram(H)"
   ]
  },
  {
   "cell_type": "markdown",
   "metadata": {},
   "source": [
    "Look at kcores"
   ]
  },
  {
   "cell_type": "code",
   "execution_count": null,
   "metadata": {},
   "outputs": [],
   "source": [
    "##############\n",
    "### Cell 3 ###\n",
    "##############\n",
    "show_kCores(G)"
   ]
  },
  {
   "cell_type": "markdown",
   "metadata": {},
   "source": [
    "Get first and second fiedler vector"
   ]
  },
  {
   "cell_type": "code",
   "execution_count": null,
   "metadata": {},
   "outputs": [],
   "source": [
    "##############\n",
    "### Cell 4 ###\n",
    "##############\n",
    "\n",
    "%autoreload 2\n",
    "\n",
    "L = nx.linalg.normalized_laplacian_matrix(G)\n",
    "fiedler_vectors = get_k_fiedler_eigenvectors_sparse(L, 2)\n",
    "colors = get_colors_from_clusters(fiedler_vectors, num_clusters=2)\n",
    "show_2D_scatterplot(fiedler_vectors[:,0],\n",
    "                    fiedler_vectors[:,1],\n",
    "                    colors,\n",
    "                    xlabel = \"values of fiedler eigenvector\",\n",
    "                    ylabel = \"values of second fiedler eigenvector\",\n",
    "                    title = \"Clusters of L for affinity graph\")\n"
   ]
  },
  {
   "cell_type": "markdown",
   "metadata": {},
   "source": [
    "Show graph partitioned into two clusters using the Laplacian embedding"
   ]
  },
  {
   "cell_type": "code",
   "execution_count": null,
   "metadata": {},
   "outputs": [],
   "source": [
    "##############\n",
    "### Cell 5 ###\n",
    "##############\n",
    "group1 = {node for node in G.nodes() if colors[node] == 'y'}\n",
    "group2 = {node for node in G.nodes() if colors[node] == 'c'}\n",
    "\n",
    "show_partitions(G, partition=(group1, group2), title=\"Affinity network partitioned by L\")"
   ]
  },
  {
   "cell_type": "markdown",
   "metadata": {},
   "source": [
    "Repeat but partition using adjacency matrix"
   ]
  },
  {
   "cell_type": "code",
   "execution_count": null,
   "metadata": {},
   "outputs": [],
   "source": [
    "##############\n",
    "### Cell 6 ###\n",
    "##############\n",
    "A = nx.linalg.adjacency_matrix(G)\n",
    "leading_vectors = get_k_leading_eigenvectors_sparse(A, 2)\n",
    "colors = get_colors_from_clusters(leading_vectors, num_clusters=2)\n",
    "\n",
    "show_2D_scatterplot(leading_vectors[:,0],\n",
    "                    leading_vectors[:,1],\n",
    "                    colors,\n",
    "                    xlabel = \"values of first leading eigenvector\",\n",
    "                    ylabel = \"values of second leadin eigenvector\",\n",
    "                    title = \"Clusters of A for affinity graph\")\n"
   ]
  },
  {
   "cell_type": "code",
   "execution_count": null,
   "metadata": {},
   "outputs": [],
   "source": [
    "##############\n",
    "### Cell 7 ###\n",
    "##############\n",
    "group1 = {node for node in G.nodes() if colors[node] == 'y'}\n",
    "group2 = {node for node in G.nodes() if colors[node] == 'c'}\n",
    "\n",
    "show_partitions(G, partition=(group1, group2), title=\"Affinity network partitioned by A\")"
   ]
  },
  {
   "cell_type": "markdown",
   "metadata": {},
   "source": [
    "Redraw to see which node classes belong n core and which belong in the periphery"
   ]
  },
  {
   "cell_type": "code",
   "execution_count": null,
   "metadata": {},
   "outputs": [],
   "source": [
    "##############\n",
    "### Cell 8 ###\n",
    "##############\n",
    "\n",
    "show_kCores_by_partition(G, colors, title=\"Affinity graph partitioned by A\")"
   ]
  },
  {
   "cell_type": "markdown",
   "metadata": {},
   "source": [
    "---"
   ]
  },
  {
   "cell_type": "markdown",
   "metadata": {},
   "source": [
    "Create a core-periphery network"
   ]
  },
  {
   "cell_type": "code",
   "execution_count": null,
   "metadata": {},
   "outputs": [],
   "source": [
    "##############\n",
    "### Cell 9 ###\n",
    "##############\n",
    "\n",
    "a = 0.4\n",
    "b = 0.2\n",
    "c = 0.01\n",
    "G: nx.Graph = nx.stochastic_block_model([num_nodes,num_nodes],[[a,b],[b,c]])\n",
    "\n",
    "partition_dict: dict[int, set[int]] = {0: set(), 1: set()}\n",
    "for node in G.nodes():\n",
    "    if node < num_nodes:\n",
    "        partition_dict[0].add(node)\n",
    "    else:\n",
    "        partition_dict[1].add(node)\n",
    "partition: list[set[int]] = list(partition_dict.values())\n",
    "\n",
    "show_partitions(G, \n",
    "                pos = nx.spring_layout(G),\n",
    "                partition = partition, \n",
    "                title=\"Two class core-periphery network with true classes:\\n\")\n",
    "\n"
   ]
  },
  {
   "cell_type": "markdown",
   "metadata": {},
   "source": [
    "Look at dendrogram"
   ]
  },
  {
   "cell_type": "code",
   "execution_count": null,
   "metadata": {},
   "outputs": [],
   "source": [
    "###############\n",
    "### Cell 10 ###\n",
    "###############\n",
    "\n",
    "#G = largest_component(G)\n",
    "show_dendrogram(G,title=\"Dendrogram of core-periphery network\")"
   ]
  },
  {
   "cell_type": "markdown",
   "metadata": {},
   "source": [
    "Look at kcores"
   ]
  },
  {
   "cell_type": "code",
   "execution_count": null,
   "metadata": {},
   "outputs": [],
   "source": [
    "###############\n",
    "### Cell 11 ###\n",
    "###############\n",
    "\n",
    "show_kCores(G)"
   ]
  },
  {
   "cell_type": "markdown",
   "metadata": {},
   "source": [
    "Let's partition using the normalized Laplacian matrix"
   ]
  },
  {
   "cell_type": "code",
   "execution_count": null,
   "metadata": {},
   "outputs": [],
   "source": [
    "###############\n",
    "### Cell 12 ###\n",
    "###############\n",
    "\n",
    "L = nx.linalg.normalized_laplacian_matrix(G)\n",
    "fiedler_vectors = get_k_fiedler_eigenvectors_sparse(L, 2)\n",
    "colors = get_colors_from_clusters(fiedler_vectors, num_clusters=2)\n",
    "show_2D_scatterplot(fiedler_vectors[:,0],\n",
    "                    fiedler_vectors[:,1],\n",
    "                    colors,\n",
    "                    xlabel = \"values of fiedler eigenvector\",\n",
    "                    ylabel = \"values of second fiedler eigenvector\",\n",
    "                    title = \"Clusters of L for core-periphery graph\")"
   ]
  },
  {
   "cell_type": "markdown",
   "metadata": {},
   "source": [
    "Show partition"
   ]
  },
  {
   "cell_type": "code",
   "execution_count": null,
   "metadata": {},
   "outputs": [],
   "source": [
    "###############\n",
    "### Cell 13 ###\n",
    "###############\n",
    "group1 = {node for node in G.nodes() if colors[node] == 'y'}\n",
    "group2 = {node for node in G.nodes() if colors[node] == 'c'}\n",
    "\n",
    "\n",
    "# Spring layout tends to show core periphery structure well\n",
    "show_partitions(G, \n",
    "                pos = nx.spring_layout(G),\n",
    "                partition=(group1, group2), \n",
    "                title=\"Core-periphery network partitioned by L:\\n\")"
   ]
  },
  {
   "cell_type": "code",
   "execution_count": null,
   "metadata": {},
   "outputs": [],
   "source": [
    "###############\n",
    "### Cell 14 ###\n",
    "###############\n",
    "show_kCores_by_partition(G,colors,title = \"Core-periphery network partitioned by L\")"
   ]
  },
  {
   "cell_type": "markdown",
   "metadata": {},
   "source": [
    "Repeat using the adjacency matrix"
   ]
  },
  {
   "cell_type": "code",
   "execution_count": null,
   "metadata": {},
   "outputs": [],
   "source": [
    "###############\n",
    "### Cell 15 ##\n",
    "###############\n",
    "\n",
    "A = nx.linalg.adjacency_matrix(G)\n",
    "leading_vectors = get_k_leading_eigenvectors_sparse(A, 2)\n",
    "colors = get_colors_from_clusters(leading_vectors, num_clusters=2)\n",
    "\n",
    "show_2D_scatterplot(leading_vectors[:,0],\n",
    "                    leading_vectors[:,1],\n",
    "                    colors,\n",
    "                    xlabel = \"values of first leading eigenvector\",\n",
    "                    ylabel = \"values of second leadin eigenvector\",\n",
    "                    title = \"Clusters of A for core-periphery graph\")"
   ]
  },
  {
   "cell_type": "markdown",
   "metadata": {},
   "source": [
    "Show partition by adjacency matrix"
   ]
  },
  {
   "cell_type": "code",
   "execution_count": null,
   "metadata": {},
   "outputs": [],
   "source": [
    "###############\n",
    "### Cell 16 ###\n",
    "###############\n",
    "\n",
    "group1 = {node for node in G.nodes() if colors[node] == 'y'}\n",
    "group2 = {node for node in G.nodes() if colors[node] == 'c'}\n",
    "\n",
    "# Spring layout tends to show core periphery structure well\n",
    "show_partitions(G, \n",
    "                pos = nx.spring_layout(G),\n",
    "                partition=(group1, group2), \n",
    "                title=\"Core-periphery network partitioned by A:\\n\")"
   ]
  },
  {
   "cell_type": "markdown",
   "metadata": {},
   "source": [
    "Redraw using the shell layout to see which class falls in core and which in periphery"
   ]
  },
  {
   "cell_type": "code",
   "execution_count": null,
   "metadata": {},
   "outputs": [],
   "source": [
    "###############\n",
    "### Cell 17 ###\n",
    "###############\n",
    "show_kCores_by_partition(G,colors, title=\"Core-periphery graph partitioned by A\")"
   ]
  },
  {
   "cell_type": "markdown",
   "metadata": {},
   "source": [
    "It looks like most of the yellow nodes are in the 3-core, which means that the clustering by the eigenvectors of the adjacency matrix pull out at least some information about the k-core structure."
   ]
  },
  {
   "cell_type": "markdown",
   "metadata": {},
   "source": [
    "---"
   ]
  },
  {
   "cell_type": "markdown",
   "metadata": {},
   "source": [
    "### Clustering Using More Information"
   ]
  },
  {
   "cell_type": "code",
   "execution_count": null,
   "metadata": {},
   "outputs": [],
   "source": [
    "from sklearn.manifold import TSNE\n",
    "num_eigenvectors: int = 5\n",
    "A = nx.linalg.adjacency_matrix(G)\n",
    "leading_vectors = get_k_leading_eigenvectors_sparse(A, num_eigenvectors)\n",
    "tsne: TSNE = TSNE(n_components=2, random_state=42)\n",
    "tsne_components = tsne.fit_transform(leading_vectors)\n",
    "colors = get_colors_from_clusters(tsne_components, num_clusters=3)\n"
   ]
  },
  {
   "cell_type": "code",
   "execution_count": null,
   "metadata": {},
   "outputs": [],
   "source": [
    "show_2D_scatterplot(leading_vectors[:,0],\n",
    "                    leading_vectors[:,1],\n",
    "                    colors,\n",
    "                    xlabel = \"values of first leading eigenvector\",\n",
    "                    ylabel = \"values of second leadin eigenvector\",\n",
    "                    title = \"Clusters of A for core-periphery graph\")"
   ]
  },
  {
   "cell_type": "code",
   "execution_count": null,
   "metadata": {},
   "outputs": [],
   "source": [
    "group1 = {node for node in G.nodes() if colors[node] == 'y'}\n",
    "group2 = {node for node in G.nodes() if colors[node] == 'c'}\n",
    "group3 = {node for node in G.nodes() if colors[node] == 'm'}\n",
    "\n",
    "\n",
    "show_partitions(G, \n",
    "                partition=(group1, group2, group3), \n",
    "                title=\"Core-periphery network partitioned by A:\\n\")"
   ]
  },
  {
   "cell_type": "code",
   "execution_count": null,
   "metadata": {},
   "outputs": [],
   "source": [
    "show_kCores_by_partition(G,colors, title=\"Core-periphery graph partitioned by A\")"
   ]
  },
  {
   "cell_type": "markdown",
   "metadata": {},
   "source": [
    "I see nothing useful in this plot"
   ]
  }
 ],
 "metadata": {
  "kernelspec": {
   "display_name": ".venv",
   "language": "python",
   "name": "python3"
  },
  "language_info": {
   "codemirror_mode": {
    "name": "ipython",
    "version": 3
   },
   "file_extension": ".py",
   "mimetype": "text/x-python",
   "name": "python",
   "nbconvert_exporter": "python",
   "pygments_lexer": "ipython3",
   "version": "3.12.5"
  }
 },
 "nbformat": 4,
 "nbformat_minor": 2
}
