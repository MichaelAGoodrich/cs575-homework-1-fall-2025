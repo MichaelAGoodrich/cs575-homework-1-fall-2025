{
 "cells": [
  {
   "cell_type": "markdown",
   "metadata": {},
   "source": [
    "| Feature                         | Stochastic Block Model (SBM)          | Girvan-Newman Network Formation Model |\n",
    "|---------------------------------|--------------------------------------|--------------------------------------|\n",
    "| **Generative Process**         | Nodes are assigned to communities in advance | Network structure emerges from preferential attachment |\n",
    "| **Edge Probability**           | Based only on group membership       | Based on assortative mixing, linking nodes with similar attributes |\n",
    "| **Fixed vs. Dynamic**          | Static model: All nodes exist at the start, edges are drawn probabilistically | Growth model: Nodes and edges are added over time |\n",
    "| **Flexibility**                | Assumes block structure; works well for well-separated communities | Can produce overlapping and evolving community structures |\n",
    "| **Assortativity**              | Can incorporate assortativity but is not its primary feature | Explicitly models assortative mixing in real-world networks |"
   ]
  },
  {
   "cell_type": "markdown",
   "metadata": {},
   "source": [
    "### Holland, Laskey, Leinhardt Stochastic Block Model\n",
    "\n",
    "This algorithm defines \n",
    "- a set of groups\n",
    "- the number of nodes within each group\n",
    "- the probability of an edge between nodes for each group pair, denoted by p[i,j] for groups i and j\n",
    "\n",
    "The algorithm is very straightforward.\n",
    "- create a graph with nodes assigned to each group\n",
    "- create the set of all possible edges\n",
    "- for each possible edge\n",
    "  - if the possible edge is between nodes in group i and group j AND\n",
    "      - add the edge to the graph if a random number is less than p[i,j]\n",
    "\n",
    "We can implement this for an undirected graph with no self-loops.\n"
   ]
  },
  {
   "cell_type": "code",
   "execution_count": null,
   "metadata": {},
   "outputs": [],
   "source": [
    "import networkx as nx\n",
    "\n",
    "\n",
    "def make_holland_stochastic_block_graph() -> nx.Graph:\n",
    "    nodes_per_group: list[int] = [75, 75, 150]\n"
   ]
  }
 ],
 "metadata": {
  "language_info": {
   "name": "python"
  }
 },
 "nbformat": 4,
 "nbformat_minor": 2
}
