{
 "cells": [
  {
   "cell_type": "markdown",
   "metadata": {},
   "source": [
    "The density metric computes the number of edges a graph relative to the number of possible edges. For undirected graphs, the density is given by\n",
    "\n",
    "$$ \\rho = \\frac{2m}{n(n-1)} $$\n",
    "\n",
    "where $m$ is the number of edges in the graph and $n$ is the number of vertices in the graph.\n",
    "\n",
    "The purpose of this in-class exercise is to build some intuition about graph density.\n",
    "\n",
    "---"
   ]
  },
  {
   "cell_type": "markdown",
   "metadata": {},
   "source": [
    "**Minimum density graph**\n",
    "\n",
    "A graph must have at least one vertex but it needn't have any edges. Let's compute the density for such a graph."
   ]
  },
  {
   "cell_type": "code",
   "execution_count": null,
   "metadata": {},
   "outputs": [],
   "source": [
    "from network_utilities import adjacency_matrix_to_graph\n",
    "from network_utilities import show_graph\n",
    "import networkx as nx\n",
    "import numpy as np\n",
    "\n",
    "num_vertices: int = 10\n",
    "adjacency_matrix = np.zeros((num_vertices, num_vertices))\n",
    "G = adjacency_matrix_to_graph(adjacency_matrix)\n",
    "show_graph(G)\n"
   ]
  },
  {
   "cell_type": "code",
   "execution_count": null,
   "metadata": {},
   "outputs": [],
   "source": [
    "print(f\"The density of this graph is {nx.density(G)}\")"
   ]
  },
  {
   "cell_type": "markdown",
   "metadata": {},
   "source": [
    "**Maximum density graph**\n",
    "\n",
    "At the other extreme is a complete graph."
   ]
  },
  {
   "cell_type": "code",
   "execution_count": null,
   "metadata": {},
   "outputs": [],
   "source": [
    "G = nx.complete_graph(num_vertices)\n",
    "show_graph(G)"
   ]
  },
  {
   "cell_type": "code",
   "execution_count": null,
   "metadata": {},
   "outputs": [],
   "source": [
    "print(f\"The density of this graph is {nx.density(G)}\")"
   ]
  },
  {
   "cell_type": "markdown",
   "metadata": {},
   "source": [
    "**Experiments**\n",
    "\n",
    "Use the circulant graph to build some intuition about how the density metric relates to different kinds of graph structures. Before beginning, predict what you think the density metric will be for a cycle graph, for a circulant graph that includes neighbors and neighbors of neighbors, and a circulant graph that includes neighbors and their neighbors and their neighbors."
   ]
  },
  {
   "cell_type": "code",
   "execution_count": null,
   "metadata": {},
   "outputs": [],
   "source": [
    "G = nx.circulant_graph(num_vertices,[1])\n",
    "print(f\"The density of this graph is {nx.density(G)}\")\n",
    "show_graph(G)"
   ]
  },
  {
   "cell_type": "code",
   "execution_count": null,
   "metadata": {},
   "outputs": [],
   "source": [
    "G = nx.circulant_graph(num_vertices,[1,2])\n",
    "print(f\"The density of this graph is {nx.density(G)}\")\n",
    "show_graph(G)"
   ]
  },
  {
   "cell_type": "code",
   "execution_count": null,
   "metadata": {},
   "outputs": [],
   "source": [
    "G = nx.circulant_graph(num_vertices,[1,2,3])\n",
    "print(f\"The density of this graph is {nx.density(G)}\")\n",
    "show_graph(G)"
   ]
  }
 ],
 "metadata": {
  "kernelspec": {
   "display_name": ".venv",
   "language": "python",
   "name": "python3"
  },
  "language_info": {
   "codemirror_mode": {
    "name": "ipython",
    "version": 3
   },
   "file_extension": ".py",
   "mimetype": "text/x-python",
   "name": "python",
   "nbconvert_exporter": "python",
   "pygments_lexer": "ipython3",
   "version": "3.12.5"
  }
 },
 "nbformat": 4,
 "nbformat_minor": 2
}
