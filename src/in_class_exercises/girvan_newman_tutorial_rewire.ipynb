{
 "cells": [
  {
   "cell_type": "markdown",
   "metadata": {},
   "source": [
    "### Understanding Girvan-Newman Assortiative Mixing Model"
   ]
  },
  {
   "cell_type": "code",
   "execution_count": 199,
   "metadata": {},
   "outputs": [
    {
     "name": "stdout",
     "output_type": "stream",
     "text": [
      "The autoreload extension is already loaded. To reload it, use:\n",
      "  %reload_ext autoreload\n"
     ]
    }
   ],
   "source": [
    "%load_ext autoreload"
   ]
  },
  {
   "cell_type": "markdown",
   "metadata": {},
   "source": [
    "Get the edge count from the mixing matrix and the poisson coeffients. Set the seed to a fixed value so that you get the same number each time."
   ]
  },
  {
   "cell_type": "code",
   "execution_count": 200,
   "metadata": {},
   "outputs": [],
   "source": [
    "%autoreload 2\n",
    "\n",
    "from Girvan_Newman_stochastic_block_network_v3 import AssortativeMixing\n",
    "import numpy as np\n",
    "from numpy.typing import NDArray\n",
    "\n",
    "\n",
    "M: NDArray[np.float32] = np.array([[0.4, 0.01],\n",
    "                                   [0.01, 0.4]]) \n",
    "poisson_lambda: list[int] = [6, 4]\n",
    "num_edges: int = 50\n",
    "seed =42\n",
    "\n",
    "assortative_network: AssortativeMixing = AssortativeMixing(M, poisson_lambda)\n"
   ]
  },
  {
   "cell_type": "code",
   "execution_count": 201,
   "metadata": {},
   "outputs": [
    {
     "name": "stdout",
     "output_type": "stream",
     "text": [
      "{(0, 0): 25, (0, 1): 2, (1, 0): 1, (1, 1): 22}\n"
     ]
    }
   ],
   "source": [
    "edge_count_by_type = assortative_network._draw_edges_from_mixing_matrix(M, num_edges, seed=seed)\n",
    "print(edge_count_by_type)"
   ]
  },
  {
   "cell_type": "markdown",
   "metadata": {},
   "source": [
    "Count the number of stubs of each type required. There should be \n",
    "- type 0: 25*2 + 2 + 1 = 53\n",
    "- type 1: 2 + 1 + 2*22 = 47"
   ]
  },
  {
   "cell_type": "code",
   "execution_count": 202,
   "metadata": {},
   "outputs": [
    {
     "name": "stdout",
     "output_type": "stream",
     "text": [
      "{0: 53, 1: 47}\n"
     ]
    }
   ],
   "source": [
    "num_classes: int = len(M)\n",
    "stubs_per_class = assortative_network._get_number_of_stubs_per_class(edge_count_by_type, num_classes)\n",
    "print(stubs_per_class)"
   ]
  },
  {
   "cell_type": "markdown",
   "metadata": {},
   "source": [
    "Generate nodes of each type with degree randomly drawn from a Poisson distribution. Seed the distribution so that results are replicable. The number of nodes of each type is determined by dividing the number of stubs of each class by the average degree of nodes in the class. We're using a Poisson distribution for node degree so the average node degree is lambda. \n",
    "\n",
    "We expect that the number of nodes is\n",
    "- class 0 is  53/6 rounded up, which is 9 \n",
    "- class 1 is 47/4 = 12"
   ]
  },
  {
   "cell_type": "code",
   "execution_count": 203,
   "metadata": {},
   "outputs": [
    {
     "name": "stdout",
     "output_type": "stream",
     "text": [
      "number of nodes of class 0 is 9\n",
      "number of nodes of class 1 is 12\n"
     ]
    }
   ],
   "source": [
    "for node_class in stubs_per_class.keys():\n",
    "    num_required_nodes = assortative_network._get_number_nodes_in_class(stubs_per_class[node_class],\n",
    "                                                                    poisson_lambda[node_class])\n",
    "    print(f\"number of nodes of class {node_class} is {num_required_nodes}\")"
   ]
  },
  {
   "cell_type": "markdown",
   "metadata": {},
   "source": [
    "generate a list of nodes with a fixed seed for each class and add the list to a dictionary indexed by class"
   ]
  },
  {
   "cell_type": "code",
   "execution_count": 204,
   "metadata": {},
   "outputs": [
    {
     "name": "stdout",
     "output_type": "stream",
     "text": [
      "node list for class 0 is:\n",
      "   [0, 1, 2, 3, 4, 5, 6, 7, 8]\n",
      "which have degrees\n",
      "   [6, 6, 4, 5, 4, 6, 4, 4, 9]\n",
      "and difference between required stubs and actual stubs of \n",
      "   53 - 48\n",
      "node list for class 1 is:\n",
      "   [9, 10, 11, 12, 13, 14, 15, 16, 17, 18, 19, 20]\n",
      "which have degrees\n",
      "   [5, 4, 4, 4, 2, 5, 2, 5, 3, 5, 7, 1]\n",
      "and difference between required stubs and actual stubs of \n",
      "   47 - 47\n"
     ]
    }
   ],
   "source": [
    "starting_node_id: int = 0\n",
    "for node_class in stubs_per_class.keys():\n",
    "    num_required_nodes = assortative_network._get_number_nodes_in_class(stubs_per_class[node_class],\n",
    "                                                                    poisson_lambda[node_class])\n",
    "    node_list = assortative_network._create_nodes_for_class(node_class,\n",
    "                                                  num_required_nodes,\n",
    "                                                  poisson_lambda[node_class],\n",
    "                                                  starting_node_id,\n",
    "                                                  seed=seed)\n",
    "    print(f\"node list for class {node_class} is:\")\n",
    "    print(f\"   {[node.ID for node in node_list]}\")\n",
    "    print(\"which have degrees\")\n",
    "    print(f\"   {[node.degree for node in node_list]}\")\n",
    "    print(\"and difference between required stubs and actual stubs of \")\n",
    "    print(f\"   {stubs_per_class[node_class]} - {sum([node.degree for node in node_list])}\")\n",
    "    starting_node_id += len(node_list)"
   ]
  },
  {
   "cell_type": "markdown",
   "metadata": {},
   "source": [
    "Resample degree until required number of stubs equals actual stubs"
   ]
  },
  {
   "cell_type": "code",
   "execution_count": 205,
   "metadata": {},
   "outputs": [
    {
     "name": "stdout",
     "output_type": "stream",
     "text": [
      "node list for class 0 is:\n",
      "   [0, 1, 2, 3, 4, 5, 6, 7, 8]\n",
      "which have degrees\n",
      "   [8, 6, 3, 9, 8, 6, 4, 4, 5]\n",
      "and difference between required stubs and actual stubs of \n",
      "   53 - 53\n",
      "node list for class 1 is:\n",
      "   [9, 10, 11, 12, 13, 14, 15, 16, 17, 18, 19, 20]\n",
      "which have degrees\n",
      "   [5, 4, 4, 4, 2, 5, 2, 5, 3, 5, 7, 1]\n",
      "and difference between required stubs and actual stubs of \n",
      "   47 - 47\n"
     ]
    }
   ],
   "source": [
    "starting_node_id = 0\n",
    "for node_class in stubs_per_class.keys():\n",
    "    num_required_nodes = assortative_network._get_number_nodes_in_class(stubs_per_class[node_class],\n",
    "                                                                    poisson_lambda[node_class])\n",
    "    node_list = assortative_network._create_nodes_for_class(node_class,\n",
    "                                                  num_required_nodes,\n",
    "                                                  poisson_lambda[node_class],\n",
    "                                                  starting_node_id,\n",
    "                                                  seed=seed)\n",
    "    node_list = assortative_network._resample_node_degrees_in_nodelist(node_list,\n",
    "                                                                       stubs_per_class[node_class],\n",
    "                                                                       poisson_lambda[node_class],\n",
    "                                                                       seed=seed)\n",
    "    starting_node_id += len(node_list)\n",
    "    print(f\"node list for class {node_class} is:\")\n",
    "    print(f\"   {[node.ID for node in node_list]}\")\n",
    "    print(\"which have degrees\")\n",
    "    print(f\"   {[node.degree for node in node_list]}\")\n",
    "    print(\"and difference between required stubs and actual stubs of \")\n",
    "    print(f\"   {stubs_per_class[node_class]} - {sum([node.degree for node in node_list])}\")"
   ]
  },
  {
   "cell_type": "markdown",
   "metadata": {},
   "source": [
    "Make sure that the dictionary of nodelists of each time is populated"
   ]
  },
  {
   "cell_type": "code",
   "execution_count": 206,
   "metadata": {},
   "outputs": [
    {
     "name": "stdout",
     "output_type": "stream",
     "text": [
      "node 0 has node degrees 8\n",
      "node 1 has node degrees 6\n",
      "node 2 has node degrees 3\n",
      "node 3 has node degrees 9\n",
      "node 4 has node degrees 8\n",
      "node 5 has node degrees 6\n",
      "node 6 has node degrees 4\n",
      "node 7 has node degrees 4\n",
      "node 8 has node degrees 5\n",
      "node 9 has node degrees 5\n",
      "node 10 has node degrees 4\n",
      "node 11 has node degrees 4\n",
      "node 12 has node degrees 4\n",
      "node 13 has node degrees 2\n",
      "node 14 has node degrees 5\n",
      "node 15 has node degrees 2\n",
      "node 16 has node degrees 5\n",
      "node 17 has node degrees 3\n",
      "node 18 has node degrees 5\n",
      "node 19 has node degrees 7\n",
      "node 20 has node degrees 1\n"
     ]
    }
   ],
   "source": [
    "from Girvan_Newman_stochastic_block_network_v3 import Node_Type\n",
    "starting_node_id = 0\n",
    "all_nodes: list[Node_Type] = []\n",
    "for node_class in stubs_per_class.keys():\n",
    "    num_required_nodes = assortative_network._get_number_nodes_in_class(stubs_per_class[node_class],\n",
    "                                                                        poisson_lambda[node_class])\n",
    "    node_list = assortative_network._create_nodes_for_class(node_class,\n",
    "                                                  num_required_nodes,\n",
    "                                                  poisson_lambda[node_class],\n",
    "                                                  starting_node_id,\n",
    "                                                  seed=seed)\n",
    "    node_list = assortative_network._resample_node_degrees_in_nodelist(node_list,\n",
    "                                                                       stubs_per_class[node_class],\n",
    "                                                                       poisson_lambda[node_class],\n",
    "                                                                       seed=seed)\n",
    "    all_nodes.extend(node_list)\n",
    "    starting_node_id += len(node_list)\n",
    "for node in all_nodes:\n",
    "    print(f\"node {node.ID} has node degrees {node.degree}\")"
   ]
  },
  {
   "cell_type": "markdown",
   "metadata": {},
   "source": [
    "Now check that the function that does all these steps returns the same thing."
   ]
  },
  {
   "cell_type": "code",
   "execution_count": 207,
   "metadata": {},
   "outputs": [
    {
     "name": "stdout",
     "output_type": "stream",
     "text": [
      "node 0 has node degrees 8\n",
      "node 1 has node degrees 6\n",
      "node 2 has node degrees 3\n",
      "node 3 has node degrees 9\n",
      "node 4 has node degrees 8\n",
      "node 5 has node degrees 6\n",
      "node 6 has node degrees 4\n",
      "node 7 has node degrees 4\n",
      "node 8 has node degrees 5\n",
      "node 9 has node degrees 5\n",
      "node 10 has node degrees 4\n",
      "node 11 has node degrees 4\n",
      "node 12 has node degrees 4\n",
      "node 13 has node degrees 2\n",
      "node 14 has node degrees 5\n",
      "node 15 has node degrees 2\n",
      "node 16 has node degrees 5\n",
      "node 17 has node degrees 3\n",
      "node 18 has node degrees 5\n",
      "node 19 has node degrees 7\n",
      "node 20 has node degrees 1\n",
      "total degree of nodes is 100\n"
     ]
    }
   ],
   "source": [
    "all_nodes = assortative_network._create_nodes(stubs_per_class, \n",
    "                                                        poisson_lambda,\n",
    "                                                      seed=seed)\n",
    "total_degree: int = 0\n",
    "for node in all_nodes:\n",
    "    print(f\"node {node.ID} has node degrees {node.degree}\")\n",
    "    total_degree += node.degree\n",
    "print(f\"total degree of nodes is {total_degree}\")\n"
   ]
  },
  {
   "cell_type": "markdown",
   "metadata": {},
   "source": [
    "---"
   ]
  },
  {
   "cell_type": "markdown",
   "metadata": {},
   "source": [
    "### Adding Edges\n",
    "\n",
    "#### Step 1: Wire\n",
    "\n",
    "**Step 1.0:** Look at the degree of each node"
   ]
  },
  {
   "cell_type": "markdown",
   "metadata": {},
   "source": [
    "**Step 1.1:** Create list of edge types with repeats"
   ]
  },
  {
   "cell_type": "code",
   "execution_count": 208,
   "metadata": {},
   "outputs": [
    {
     "name": "stdout",
     "output_type": "stream",
     "text": [
      "edge type (0, 0) required 25 nodes\n",
      "and there are 25 repeats\n",
      "edge type (0, 1) required 2 nodes\n",
      "and there are 2 repeats\n",
      "edge type (1, 0) required 1 nodes\n",
      "and there are 1 repeats\n",
      "edge type (1, 1) required 22 nodes\n",
      "and there are 22 repeats\n"
     ]
    }
   ],
   "source": [
    "wired_edges: dict[tuple[int,int],list[tuple[Node_Type, Node_Type]]] = {edge_type: [] for edge_type in edge_count_by_type.keys()}\n",
    "unwired_edge_types: list[tuple[int,int]] = []\n",
    "edge_types_with_repeats: list[tuple[int,int]] = []\n",
    "\n",
    "# Step 1: Creat a list of all edge types with repeats\n",
    "for edge_type, num_edges in edge_count_by_type.items():\n",
    "    edge_types_with_repeats.extend([edge_type for _ in range(num_edges)])\n",
    "\n",
    "# Check whether we have allocated the edge types correctly\n",
    "for edge_type in edge_count_by_type.keys():\n",
    "    print(f\"edge type {edge_type} required {edge_count_by_type[edge_type]} nodes\")\n",
    "    print(f\"and there are {len([edge_types_with_repeats for edge in edge_types_with_repeats if edge[0] == edge_type[0] and edge[1]==edge_type[1]])} repeats\")\n"
   ]
  },
  {
   "cell_type": "markdown",
   "metadata": {},
   "source": [
    "**Step 1.2:** Shuffle to introduce randomness"
   ]
  },
  {
   "cell_type": "code",
   "execution_count": 209,
   "metadata": {},
   "outputs": [
    {
     "name": "stdout",
     "output_type": "stream",
     "text": [
      "[(1, 1), (0, 1), (1, 1), (1, 0), (0, 0), (0, 0), (0, 0), (1, 1)]\n",
      "edge type (0, 0) required 25 nodes\n",
      "and there are 25 repeats\n",
      "edge type (0, 1) required 2 nodes\n",
      "and there are 2 repeats\n",
      "edge type (1, 0) required 1 nodes\n",
      "and there are 1 repeats\n",
      "edge type (1, 1) required 22 nodes\n",
      "and there are 22 repeats\n"
     ]
    }
   ],
   "source": [
    "import random\n",
    "random.seed(1234)\n",
    "random.shuffle(edge_types_with_repeats)\n",
    "\n",
    "print([edge_types_with_repeats[i] for i in range(8)])\n",
    "\n",
    "# Check whether shuffling caused problems\n",
    "# Check whether we have allocated the edge types correctly\n",
    "for edge_type in edge_count_by_type.keys():\n",
    "    print(f\"edge type {edge_type} required {edge_count_by_type[edge_type]} nodes\")\n",
    "    print(f\"and there are {len([edge_types_with_repeats for edge in edge_types_with_repeats if edge[0] == edge_type[0] and edge[1]==edge_type[1]])} repeats\")"
   ]
  },
  {
   "cell_type": "markdown",
   "metadata": {},
   "source": [
    "**Step 1.3:** \n",
    "- Loop through all edge_types and wire nodes if possible\n",
    "- Store as dictionary of node pairs keyed by edge_type"
   ]
  },
  {
   "cell_type": "code",
   "execution_count": 210,
   "metadata": {},
   "outputs": [
    {
     "name": "stdout",
     "output_type": "stream",
     "text": [
      "available stubs are \n",
      "{0: [Node_Type(ID=0, degree=8, node_type=0), Node_Type(ID=0, degree=8, node_type=0), Node_Type(ID=0, degree=8, node_type=0), Node_Type(ID=0, degree=8, node_type=0), Node_Type(ID=0, degree=8, node_type=0), Node_Type(ID=0, degree=8, node_type=0), Node_Type(ID=0, degree=8, node_type=0), Node_Type(ID=0, degree=8, node_type=0), Node_Type(ID=1, degree=6, node_type=0), Node_Type(ID=1, degree=6, node_type=0), Node_Type(ID=1, degree=6, node_type=0), Node_Type(ID=1, degree=6, node_type=0), Node_Type(ID=1, degree=6, node_type=0), Node_Type(ID=1, degree=6, node_type=0), Node_Type(ID=2, degree=3, node_type=0), Node_Type(ID=2, degree=3, node_type=0), Node_Type(ID=2, degree=3, node_type=0), Node_Type(ID=3, degree=9, node_type=0), Node_Type(ID=3, degree=9, node_type=0), Node_Type(ID=3, degree=9, node_type=0), Node_Type(ID=3, degree=9, node_type=0), Node_Type(ID=3, degree=9, node_type=0), Node_Type(ID=3, degree=9, node_type=0), Node_Type(ID=3, degree=9, node_type=0), Node_Type(ID=3, degree=9, node_type=0), Node_Type(ID=3, degree=9, node_type=0), Node_Type(ID=4, degree=8, node_type=0), Node_Type(ID=4, degree=8, node_type=0), Node_Type(ID=4, degree=8, node_type=0), Node_Type(ID=4, degree=8, node_type=0), Node_Type(ID=4, degree=8, node_type=0), Node_Type(ID=4, degree=8, node_type=0), Node_Type(ID=4, degree=8, node_type=0), Node_Type(ID=4, degree=8, node_type=0), Node_Type(ID=5, degree=6, node_type=0), Node_Type(ID=5, degree=6, node_type=0), Node_Type(ID=5, degree=6, node_type=0), Node_Type(ID=5, degree=6, node_type=0), Node_Type(ID=5, degree=6, node_type=0), Node_Type(ID=5, degree=6, node_type=0), Node_Type(ID=6, degree=4, node_type=0), Node_Type(ID=6, degree=4, node_type=0), Node_Type(ID=6, degree=4, node_type=0), Node_Type(ID=6, degree=4, node_type=0), Node_Type(ID=7, degree=4, node_type=0), Node_Type(ID=7, degree=4, node_type=0), Node_Type(ID=7, degree=4, node_type=0), Node_Type(ID=7, degree=4, node_type=0), Node_Type(ID=8, degree=5, node_type=0), Node_Type(ID=8, degree=5, node_type=0), Node_Type(ID=8, degree=5, node_type=0), Node_Type(ID=8, degree=5, node_type=0), Node_Type(ID=8, degree=5, node_type=0)], 1: [Node_Type(ID=9, degree=5, node_type=1), Node_Type(ID=9, degree=5, node_type=1), Node_Type(ID=9, degree=5, node_type=1), Node_Type(ID=9, degree=5, node_type=1), Node_Type(ID=9, degree=5, node_type=1), Node_Type(ID=10, degree=4, node_type=1), Node_Type(ID=10, degree=4, node_type=1), Node_Type(ID=10, degree=4, node_type=1), Node_Type(ID=10, degree=4, node_type=1), Node_Type(ID=11, degree=4, node_type=1), Node_Type(ID=11, degree=4, node_type=1), Node_Type(ID=11, degree=4, node_type=1), Node_Type(ID=11, degree=4, node_type=1), Node_Type(ID=12, degree=4, node_type=1), Node_Type(ID=12, degree=4, node_type=1), Node_Type(ID=12, degree=4, node_type=1), Node_Type(ID=12, degree=4, node_type=1), Node_Type(ID=13, degree=2, node_type=1), Node_Type(ID=13, degree=2, node_type=1), Node_Type(ID=14, degree=5, node_type=1), Node_Type(ID=14, degree=5, node_type=1), Node_Type(ID=14, degree=5, node_type=1), Node_Type(ID=14, degree=5, node_type=1), Node_Type(ID=14, degree=5, node_type=1), Node_Type(ID=15, degree=2, node_type=1), Node_Type(ID=15, degree=2, node_type=1), Node_Type(ID=16, degree=5, node_type=1), Node_Type(ID=16, degree=5, node_type=1), Node_Type(ID=16, degree=5, node_type=1), Node_Type(ID=16, degree=5, node_type=1), Node_Type(ID=16, degree=5, node_type=1), Node_Type(ID=17, degree=3, node_type=1), Node_Type(ID=17, degree=3, node_type=1), Node_Type(ID=17, degree=3, node_type=1), Node_Type(ID=18, degree=5, node_type=1), Node_Type(ID=18, degree=5, node_type=1), Node_Type(ID=18, degree=5, node_type=1), Node_Type(ID=18, degree=5, node_type=1), Node_Type(ID=18, degree=5, node_type=1), Node_Type(ID=19, degree=7, node_type=1), Node_Type(ID=19, degree=7, node_type=1), Node_Type(ID=19, degree=7, node_type=1), Node_Type(ID=19, degree=7, node_type=1), Node_Type(ID=19, degree=7, node_type=1), Node_Type(ID=19, degree=7, node_type=1), Node_Type(ID=19, degree=7, node_type=1), Node_Type(ID=20, degree=1, node_type=1)]}\n"
     ]
    }
   ],
   "source": [
    "available_stubs: dict[int, list[Node_Type]] = {node_class: [] for node_class in range(len(M))}\n",
    "for stub in all_nodes: # List of \n",
    "    available_stubs[stub.node_type].extend([stub for _ in range(stub.degree)])\n",
    "print(f\"available stubs are \\n{available_stubs}\")\n"
   ]
  },
  {
   "cell_type": "code",
   "execution_count": 211,
   "metadata": {},
   "outputs": [
    {
     "name": "stdout",
     "output_type": "stream",
     "text": [
      "edge_type = (0, 1)\n",
      "  edge = (0, 14)\n",
      "  edge = (0, 19)\n",
      "edge_type = (1, 0)\n",
      "  edge = (16, 1)\n"
     ]
    }
   ],
   "source": [
    "for edge_type in edge_types_with_repeats:\n",
    "    if edge_type[0] == edge_type[1]:\n",
    "        # Within group edges\n",
    "        if len(set(available_stubs[edge_type[0]])) >=2:\n",
    "            (node1, node2) = random.sample(list(set(available_stubs[edge_type[0]])),2) # Sample two unique nodes\n",
    "            if (node1, node2) in wired_edges[edge_type] or node1.ID == node2.ID:\n",
    "                unwired_edge_types.append(edge_type)\n",
    "            else:\n",
    "                wired_edges[edge_type].append((node1, node2))\n",
    "                available_stubs[edge_type[0]].remove(node1)\n",
    "                available_stubs[edge_type[1]].remove(node2)\n",
    "                node1.degree -= 1\n",
    "                node2.degree -= 1\n",
    "        else:\n",
    "            unwired_edge_types.append(edge_type)\n",
    "    # Between group edges\n",
    "    else:\n",
    "        if len(set(available_stubs[edge_type[0]])) > 0 and len(set(available_stubs[edge_type[1]])) > 0:\n",
    "            node1 = random.choice(available_stubs[edge_type[0]])\n",
    "            node2 = random.choice(available_stubs[edge_type[1]])\n",
    "            if (node1, node2) in wired_edges[edge_type]:\n",
    "                unwired_edge_types.append(edge_type)\n",
    "            else:\n",
    "                wired_edges[edge_type].append((node1, node2))\n",
    "                available_stubs[edge_type[0]].remove(node1)\n",
    "                available_stubs[edge_type[1]].remove(node2)\n",
    "                node1.degree -= 1\n",
    "                node2.degree -= 1\n",
    "        else:\n",
    "            unwired_edge_types.append(edge_type)\n",
    "\n",
    "for edge_type in wired_edges.keys():\n",
    "    if edge_type[0] != edge_type[1]:\n",
    "        print(f\"edge_type = {edge_type}\")\n",
    "        for edge in wired_edges[edge_type]:\n",
    "            print(f\"  edge = {(edge[0].ID, edge[1].ID)}\")\n"
   ]
  },
  {
   "cell_type": "code",
   "execution_count": 212,
   "metadata": {},
   "outputs": [
    {
     "data": {
      "image/png": "[encoded data removed]",
      "text/plain": [
       "<Figure size 640x480 with 1 Axes>"
      ]
     },
     "metadata": {},
     "output_type": "display_data"
    }
   ],
   "source": [
    "import networkx as nx\n",
    "from drawing_utilities import show_graph\n",
    "G = nx.Graph()\n",
    "assortative_network._add_nodes_to_graph(G, all_nodes)\n",
    "for edge_type in wired_edges.keys():\n",
    "    assortative_network._add_edges_to_graph(G, wired_edges[edge_type])\n",
    "show_graph(G, title=f\"graph with edges has total degree of {sum(dict(G.degree()).values())}\")"
   ]
  },
  {
   "cell_type": "markdown",
   "metadata": {},
   "source": [
    "---"
   ]
  },
  {
   "cell_type": "markdown",
   "metadata": {},
   "source": [
    "#### Step 2: Rewire\n",
    "\n",
    "Wiring produces a graph with two potential problems.\n",
    "- The graph might be disonnected\n",
    "- Some of the required edge types might not have been added to the network\n",
    "\n",
    "Let's look at what nodes weren't used."
   ]
  },
  {
   "cell_type": "code",
   "execution_count": 213,
   "metadata": {},
   "outputs": [
    {
     "name": "stdout",
     "output_type": "stream",
     "text": [
      "{0: [Node_Type(ID=0, degree=1, node_type=0), Node_Type(ID=3, degree=2, node_type=0), Node_Type(ID=3, degree=2, node_type=0), Node_Type(ID=4, degree=1, node_type=0)], 1: [Node_Type(ID=9, degree=1, node_type=1), Node_Type(ID=16, degree=2, node_type=1), Node_Type(ID=16, degree=2, node_type=1), Node_Type(ID=18, degree=2, node_type=1), Node_Type(ID=18, degree=2, node_type=1), Node_Type(ID=19, degree=1, node_type=1)]}\n"
     ]
    }
   ],
   "source": [
    "print(available_stubs)"
   ]
  },
  {
   "cell_type": "markdown",
   "metadata": {},
   "source": [
    "Let's look at what edge_types weren't added"
   ]
  },
  {
   "cell_type": "code",
   "execution_count": 217,
   "metadata": {},
   "outputs": [
    {
     "name": "stdout",
     "output_type": "stream",
     "text": [
      "unwired edges are [(0, 0), (1, 1), (1, 1), (0, 0), (1, 1)]\n",
      "degree of node 0 is 1\n",
      "degree of node 3 is 2\n",
      "degree of node 4 is 1\n",
      "degree of node 9 is 1\n",
      "degree of node 16 is 2\n",
      "degree of node 18 is 2\n",
      "degree of node 19 is 1\n"
     ]
    }
   ],
   "source": [
    "print(f\"unwired edges are {unwired_edge_types}\")\n",
    "for node in all_nodes:\n",
    "    if node.degree > 0:\n",
    "        print(f\"degree of node {node.ID} is {node.degree}\")"
   ]
  },
  {
   "cell_type": "markdown",
   "metadata": {},
   "source": [
    "One situation that can occur is that we are left with an edge type where both ends of the edge are the same type. We can fix this by traversing the graph to find an edge such that both ends of this edge are the same type but have free degrees."
   ]
  },
  {
   "cell_type": "code",
   "execution_count": 220,
   "metadata": {},
   "outputs": [
    {
     "name": "stdout",
     "output_type": "stream",
     "text": [
      "unused stubs of type 0 are [0, 3, 3, 4]\n",
      "unused stubs of type 1 are [9, 16, 16, 18, 18, 19]\n",
      "unused stubs of type 1 are [9, 16, 16, 18, 18, 19]\n",
      "unused stubs of type 0 are [0, 3, 3, 4]\n",
      "unused stubs of type 1 are [9, 16, 16, 18, 18, 19]\n"
     ]
    }
   ],
   "source": [
    "for edge_type in unwired_edge_types:\n",
    "    if edge_type[0] == edge_type[1]:\n",
    "        print(f\"unused stubs of type {edge_type[0]} are {[stub.ID for stub  in available_stubs[edge_type[0]]]}\")\n"
   ]
  },
  {
   "cell_type": "markdown",
   "metadata": {},
   "source": [
    "These types of stubs could not be added because whey they were randomly paired there was already an edge between nodes of these types.\n",
    "\n",
    "- for each edge type\n",
    "  - for each end of the edge, traverse the graph and find edges with an endpoint that\n",
    "    - is within the class\n",
    "    - isn't connected to one of the unused stubs\n"
   ]
  },
  {
   "cell_type": "code",
   "execution_count": null,
   "metadata": {},
   "outputs": [],
   "source": []
  }
 ],
 "metadata": {
  "kernelspec": {
   "display_name": ".venv",
   "language": "python",
   "name": "python3"
  },
  "language_info": {
   "codemirror_mode": {
    "name": "ipython",
    "version": 3
   },
   "file_extension": ".py",
   "mimetype": "text/x-python",
   "name": "python",
   "nbconvert_exporter": "python",
   "pygments_lexer": "ipython3",
   "version": "3.12.5"
  }
 },
 "nbformat": 4,
 "nbformat_minor": 2
}
