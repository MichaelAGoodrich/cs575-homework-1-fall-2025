{
 "cells": [
  {
   "cell_type": "code",
   "execution_count": null,
   "metadata": {},
   "outputs": [
    {
     "name": "stdout",
     "output_type": "stream",
     "text": [
      "60x60 grid with 0.2 houses empty and 1 times more blue people than red people\n",
      "People want no more than 0.9 to be different than them\n"
     ]
    }
   ],
   "source": [
    "\"\"\" Practice with homophily beginning with Schelling's model\n",
    "    The code in the first cells is from \n",
    "https://towardsdatascience.com/schellings-model-of-racial-segregation-4852fad06c13\n",
    "\n",
    "Michael A. Goodrich\n",
    "Brigham Young University\n",
    "\n",
    "February 2022 and March 2023\n",
    "\"\"\"\n",
    "\n",
    "# Global parameters\n",
    "N = 60       # Grid will be N x N\n",
    "SIM_T = 0.6  # Similarity threshold (that is 1-τ)\n",
    "EMPTY = 0.1  # Fraction of vacant properties\n",
    "B_to_R = 1   # Ratio of blue to red people\n",
    "\n",
    "print(f\"{N}x{N} grid with {EMPTY} houses empty and {B_to_R} times more blue people than red people\")\n",
    "print(f\"People want no more than {SIM_T} to be different than them\")"
   ]
  },
  {
   "cell_type": "code",
   "execution_count": 2,
   "metadata": {},
   "outputs": [],
   "source": [
    "import numpy as np\n",
    "# Define the NxNm matrix of colors\n",
    "def rand_init(N, B_to_R, EMPTY):\n",
    "    \"\"\" Random system initialisation.\n",
    "    BLUE  =  0\n",
    "    RED   =  1\n",
    "    EMPTY = -1\n",
    "    \"\"\"\n",
    "    vacant = int(N * N * EMPTY)\n",
    "    population = int(N * N - vacant)\n",
    "    blues = int(population * 1 / (1 + 1/B_to_R))\n",
    "    reds = population - blues\n",
    "    M = np.zeros(N*N, dtype=np.int8)\n",
    "    M[:reds] = 1\n",
    "    M[-vacant:] = -1\n",
    "    np.random.shuffle(M)\n",
    "    return M.reshape(N,N)\n"
   ]
  },
  {
   "cell_type": "code",
   "execution_count": 3,
   "metadata": {},
   "outputs": [],
   "source": [
    "\"\"\" Size of neighborhood of interest \"\"\"\n",
    "# 8 nearest neighbors\n",
    "KERNEL = np.array([[1, 1, 1],\n",
    "                   [1, 0, 1],\n",
    "                   [1, 1, 1]], dtype=np.int8)\n",
    "\n"
   ]
  },
  {
   "cell_type": "code",
   "execution_count": 4,
   "metadata": {},
   "outputs": [],
   "source": [
    "\"\"\" Implement Schelling's mode more efficiently by using a 2D convolution\n",
    "rather than as an agent-based model\"\"\"\n",
    "# Convolution method\n",
    "from scipy.signal import convolve2d\n"
   ]
  },
  {
   "cell_type": "code",
   "execution_count": 5,
   "metadata": {},
   "outputs": [
    {
     "data": {
      "text/plain": [
       "\" Notice that the boundary argument of scipy.signal.convolve2d provides \\nan easy way to switch from fixed ('fill')  to periodic ('wrap') boundary \\nconditions. In the following we shall stick to the latter.\""
      ]
     },
     "execution_count": 5,
     "metadata": {},
     "output_type": "execute_result"
    }
   ],
   "source": [
    "\n",
    "def evolve(M, boundary='wrap'):\n",
    "    \"\"\"\n",
    "    Args:\n",
    "        M (numpy.array): the matrix to be evolved\n",
    "        boundary (str): Either wrap, fill, or symm\n",
    "    If the similarity ratio of neighbours\n",
    "    to the entire neighborhood population\n",
    "    is lower than the SIM_T,\n",
    "    then the individual moves to an empty house.\n",
    "    \"\"\"\n",
    "    kws = dict(mode='same', boundary=boundary)\n",
    "    b_neighs = convolve2d(M == 0, KERNEL, **kws)\n",
    "    r_neighs = convolve2d(M == 1, KERNEL, **kws)\n",
    "    neighs   = convolve2d(M != -1,  KERNEL, **kws)\n",
    "\n",
    "    b_dissatified = (b_neighs / neighs < SIM_T) & (M == 0)\n",
    "    r_dissatified = (r_neighs / neighs < SIM_T) & (M == 1)\n",
    "    M[r_dissatified | b_dissatified] = - 1\n",
    "    vacant = (M == -1).sum()\n",
    "\n",
    "    n_b_dissatified, n_r_dissatified = b_dissatified.sum(), r_dissatified.sum()\n",
    "    filling = -np.ones(vacant, dtype=np.int8)\n",
    "    filling[:n_b_dissatified] = 0\n",
    "    filling[n_b_dissatified:n_b_dissatified + n_r_dissatified] = 1\n",
    "    np.random.shuffle(filling)\n",
    "    M[M==-1] = filling\n",
    "    return M\n",
    "\n",
    "\"\"\" Notice that the boundary argument of scipy.signal.convolve2d provides \n",
    "an easy way to switch from fixed ('fill')  to periodic ('wrap') boundary \n",
    "conditions. In the following we shall stick to the latter.\"\"\""
   ]
  },
  {
   "cell_type": "code",
   "execution_count": null,
   "metadata": {},
   "outputs": [
    {
     "ename": "",
     "evalue": "",
     "output_type": "error",
     "traceback": [
      "\u001b[1;31mThe Kernel crashed while executing code in the current cell or a previous cell. \n",
      "\u001b[1;31mPlease review the code in the cell(s) to identify a possible cause of the failure. \n",
      "\u001b[1;31mClick <a href='https://aka.ms/vscodeJupyterKernelCrash'>here</a> for more info. \n",
      "\u001b[1;31mView Jupyter <a href='command:jupyter.viewOutput'>log</a> for further details."
     ]
    }
   ],
   "source": [
    "\"\"\" Try to visualize.\n",
    "    I'm doing this instead of preparing my slides. \n",
    "\n",
    "    Totally worth it!\n",
    "\"\"\"\n",
    "\n",
    "import matplotlib as mpl\n",
    "mpl.use('tkagg')\n",
    "from matplotlib import pyplot as plt\n",
    "cmap = mpl.colors.ListedColormap(['white','cyan', 'magenta'])\n",
    "\n",
    "# Global parameters\n",
    "N = 60        # Grid will be N x N\n",
    "TAU = 0.4     # \"Agents desire a fraction 𝜏 of their neighborhood to be from the same group. \n",
    "              # Increasing 𝜏 corresponds to increasing the agent’s tolerance to outsiders”\"\n",
    "SIM_T = 1-TAU # Similarity threshold (that is 1-τ). \n",
    "EMPTY = 0.1   # Fraction of vacant properties\n",
    "B_to_R = 1    # Ratio of blue to red people\n",
    "\n",
    "M = rand_init(N, B_to_R, EMPTY)\n",
    "plt.figure(1); plt.clf()\n",
    "plt.pcolormesh(M,cmap=cmap,edgecolors='w', linewidths=1)\n",
    "plt.ion()\n",
    "plt.waitforbuttonpress(0.001)\n",
    "\n",
    "for t in range(0,40):\n",
    "    M = evolve(M)\n",
    "    plt.pcolormesh(M,cmap=cmap,edgecolors='w', linewidths=1)\n",
    "    plt.waitforbuttonpress(0.001)\n",
    "\n"
   ]
  }
 ],
 "metadata": {
  "kernelspec": {
   "display_name": ".venv",
   "language": "python",
   "name": "python3"
  },
  "language_info": {
   "codemirror_mode": {
    "name": "ipython",
    "version": 3
   },
   "file_extension": ".py",
   "mimetype": "text/x-python",
   "name": "python",
   "nbconvert_exporter": "python",
   "pygments_lexer": "ipython3",
   "version": "3.12.5"
  },
  "orig_nbformat": 4
 },
 "nbformat": 4,
 "nbformat_minor": 2
}
