{
 "cells": [
  {
   "cell_type": "markdown",
   "metadata": {},
   "source": [
    "### Hill-Climbing Modularity Maximization\n",
    "\n",
    "Demonstrate [Newman's hill-climbing algorithm](https://www.pnas.org/doi/pdf/10.1073/pnas.0601602103) from Newman, Mark EJ. \"Modularity and community structure in networks.\" _Proceedings of the national academy of sciences_, 103.23 (2006): 8577-8582."
   ]
  },
  {
   "cell_type": "markdown",
   "metadata": {},
   "source": [
    "Create the visualization functions"
   ]
  },
  {
   "cell_type": "code",
   "execution_count": null,
   "metadata": {},
   "outputs": [],
   "source": [
    "############\n",
    "## Cell 1 ##\n",
    "############\n",
    "\n",
    "import matplotlib.pyplot as plt\n",
    "from matplotlib.axes import Axes\n",
    "import networkx as nx\n",
    "import numpy as np\n",
    "from typing import Hashable, Tuple, Set\n",
    "\n",
    "def get_NCM_Figure3_14() -> Tuple[nx.Graph, dict[Hashable, Tuple[float, float]]]:\n",
    "    \"\"\"\n",
    "        Figure 3.14 from the book Networks, Crowds, and Markets is a useful\n",
    "        example graph. This function returns this figure as a networkx Graph\n",
    "        and a position dictionary for the neato layout\n",
    "    \"\"\"\n",
    "    G: nx.Graph = nx.Graph()\n",
    "    G.add_nodes_from(range(0,14))\n",
    "    G.add_edges_from([(0,1),(0,2),(1,2),(3,4),(3,5),(4,5),(8,9),(8,10),(9,10),(11,12),(11,13),(12,13),(2,6),(5,6),(7,8),(7,11),(6,7)])\n",
    "    pos: dict[Hashable, Tuple[float, float]] = nx.nx_pydot.graphviz_layout(G,prog='neato')\n",
    "    return G, pos\n",
    "\n",
    "def draw_edge_by_type(G: nx.Graph, \n",
    "                      pos: dict[Hashable, Tuple[float, float]], \n",
    "                      edge: Tuple[Hashable, Hashable], \n",
    "                      partition: Tuple[Set, ...]\n",
    "                      ) -> None:\n",
    "    \"\"\"\n",
    "        Draw edges between nodes in different partitions using dashed lines.\n",
    "        Draw edges between nodes within the same partition using solid lines.\n",
    "    \"\"\"\n",
    "    edge_style = 'dashed'\n",
    "    for part in partition:\n",
    "        if edge[0] in part and edge[1] in part:\n",
    "            edge_style = 'solid'\n",
    "            break\n",
    "    nx.draw_networkx_edges(G, pos, edgelist=[edge], style = edge_style)\n",
    "\n",
    "def show_partitions(G: nx.Graph,\n",
    "                    partition: Tuple[Set, ...], \n",
    "                    pos: dict[Hashable, Tuple[float, float]] | None = None,\n",
    "                    title = \"\"\n",
    "                    ) -> None:\n",
    "    \"\"\" \n",
    "        Show the networkx graph with colors and edges indicating properties\n",
    "        of the partition\n",
    "\n",
    "        Edges:\n",
    "        • Dashed lines indicate edges between nodes in different partitions\n",
    "        • Solid lines indicate edges between nodes in the same partition\n",
    "\n",
    "        Nodes:\n",
    "        • All nodes in the same partition get mapped to the same color\n",
    "        • When there are more partitions than ther are in the color pallette, repeat colors\n",
    "    \"\"\"\n",
    "    #color_list = ['c','m','y','g','r']\n",
    "    color_list: list[str] = ['y', 'lightblue', 'violet', 'salmon', \n",
    "                         'aquamarine', 'lightpink', 'lightgray', 'linen']\n",
    "    plt.clf()\n",
    "    ax: Axes = plt.gca()\n",
    "    if pos is None: \n",
    "        pos = nx.spring_layout(G, seed = 0)\n",
    "    for i in range(len(partition)):\n",
    "        nx.draw_networkx_nodes(partition[i],pos,node_color=color_list[i%len(color_list)], alpha = 0.8)\n",
    "    for edge in G.edges:\n",
    "        draw_edge_by_type(G, pos, edge, partition)\n",
    "    nx.draw_networkx_labels(G,pos)\n",
    "    if len(G.edges) == 0:\n",
    "        mod = 0\n",
    "    else:\n",
    "        mod = nx.algorithms.community.quality.modularity(G,partition)\n",
    "    title = title + \" Modularity = \" + str(np.round(mod,2))\n",
    "\n",
    "    ax.set_title(title)\n",
    "    ax.set_axis_off()"
   ]
  },
  {
   "cell_type": "markdown",
   "metadata": {},
   "source": [
    "Instantiate an example graph."
   ]
  },
  {
   "cell_type": "code",
   "execution_count": null,
   "metadata": {},
   "outputs": [],
   "source": [
    "############\n",
    "## Cell 2 ##\n",
    "############\n",
    "G, pos = get_NCM_Figure3_14() # network to be split"
   ]
  },
  {
   "cell_type": "markdown",
   "metadata": {},
   "source": [
    "Consider only binary partitions. Call each partition a \"shore\". We need three utility functions:\n",
    "- Initialize the algorithm by randomly assign nodes to a \"shore\" \n",
    "- Move a node from one shore to another\n",
    "- Find the node that provides the greatest increase in modularity if swapped."
   ]
  },
  {
   "cell_type": "code",
   "execution_count": null,
   "metadata": {},
   "outputs": [],
   "source": [
    "############\n",
    "## Cell 3 ##\n",
    "############\n",
    "\n",
    "import random\n",
    "from copy import deepcopy\n",
    "def split_into_random_shores(G: nx.Graph) -> list[Set, Set]:\n",
    "    \"\"\" \n",
    "        The Newman algorithm for random and greedy hill-climbing \n",
    "        starts with nodes assigned randomly two two shores.\n",
    "    \"\"\"\n",
    "    shore_size: int = len(G.nodes)/2\n",
    "    shore1: set[Hashable] = set(G.nodes)\n",
    "    shore2: set[Hashable] = set()\n",
    "    while len(shore2) < shore_size:\n",
    "        node: Hashable = random.choice(list(shore1))\n",
    "        shore2.add(node)\n",
    "        shore1.remove(node)\n",
    "    return [shore1, shore2]\n",
    "\n",
    "def swap_shores(partition, node):\n",
    "    \"\"\" \n",
    "        Swapping shores means moving a node from one\n",
    "        partition to another.\n",
    "    \"\"\"\n",
    "    shore1: Set = deepcopy(partition[0])\n",
    "    shore2: Set = deepcopy(partition[1])\n",
    "    if node in partition[0]:\n",
    "        shore1.remove(node)\n",
    "        shore2.add(node)\n",
    "    else:\n",
    "        shore2.remove(node)\n",
    "        shore1.add(node)\n",
    "    return [shore1, shore2]\n",
    "\n",
    "def find_best_node_to_swap(G: nx.Graph,\n",
    "                           partition: Tuple[Set, Set],\n",
    "                           already_swapped: Set\n",
    "                           ) -> Hashable | None:\n",
    "    best_mod: float = -np.inf\n",
    "    # Node that produces the highest modularity increase if it swaps shores\n",
    "    best_node_to_swap: Hashable | None = None  \n",
    "    # Track nodes that have already been swapped\n",
    "    for node in set(G.nodes()) - already_swapped:\n",
    "        possible_partition = swap_shores(partition, node)\n",
    "        mod = nx.algorithms.community.quality.modularity(G,possible_partition)\n",
    "        if mod > best_mod:\n",
    "            best_mod = mod\n",
    "            best_node_to_swap = node\n",
    "    return best_node_to_swap\n"
   ]
  },
  {
   "cell_type": "code",
   "execution_count": null,
   "metadata": {},
   "outputs": [],
   "source": [
    "############\n",
    "## Cell 4 ##\n",
    "############\n",
    "partition = split_into_random_shores(G)\n",
    "print(partition)\n",
    "show_partitions(G, partition, pos)"
   ]
  },
  {
   "cell_type": "code",
   "execution_count": null,
   "metadata": {},
   "outputs": [],
   "source": [
    "############\n",
    "## Cell 5 ##\n",
    "############\n",
    "\n",
    "already_swapped: set[Hashable] = set()\n",
    "best_node_to_swap: Hashable| None = find_best_node_to_swap(G, partition, already_swapped)\n",
    "partition = swap_shores(partition, best_node_to_swap)\n",
    "already_swapped.add(best_node_to_swap)\n",
    "print(partition)\n",
    "show_partitions(G,partition, pos)\n"
   ]
  },
  {
   "cell_type": "markdown",
   "metadata": {},
   "source": [
    "Repeat"
   ]
  },
  {
   "cell_type": "code",
   "execution_count": null,
   "metadata": {},
   "outputs": [],
   "source": [
    "############\n",
    "## Cell 6 ##\n",
    "############\n",
    "\n",
    "best_node_to_swap = find_best_node_to_swap(G, partition, already_swapped)\n",
    "partition = swap_shores(partition, best_node_to_swap)\n",
    "already_swapped.add(best_node_to_swap)\n",
    "show_partitions(G,partition, pos)\n",
    "print(partition)"
   ]
  },
  {
   "cell_type": "markdown",
   "metadata": {},
   "source": [
    "Repeat until Q stops increasing"
   ]
  },
  {
   "cell_type": "code",
   "execution_count": null,
   "metadata": {},
   "outputs": [],
   "source": [
    "############\n",
    "## Cell 7 ##\n",
    "############\n",
    "\n",
    "best_node_to_swap = find_best_node_to_swap(G, partition, already_swapped)\n",
    "partition = swap_shores(partition, best_node_to_swap)\n",
    "already_swapped.add(best_node_to_swap)\n",
    "show_partitions(G,partition, pos)\n",
    "print(partition)"
   ]
  },
  {
   "cell_type": "code",
   "execution_count": null,
   "metadata": {},
   "outputs": [],
   "source": [
    "############\n",
    "## Cell 8 ##\n",
    "############\n",
    "\n",
    "best_node_to_swap = find_best_node_to_swap(G, partition, already_swapped)\n",
    "partition = swap_shores(partition, best_node_to_swap)\n",
    "already_swapped.add(best_node_to_swap)\n",
    "show_partitions(G,partition, pos)\n",
    "print(partition)"
   ]
  },
  {
   "cell_type": "code",
   "execution_count": null,
   "metadata": {},
   "outputs": [],
   "source": [
    "############\n",
    "## Cell 9 ##\n",
    "############\n",
    "\n",
    "best_node_to_swap = find_best_node_to_swap(G, partition, already_swapped)\n",
    "partition = swap_shores(partition, best_node_to_swap)\n",
    "already_swapped.add(best_node_to_swap)\n",
    "show_partitions(G,partition, pos)\n",
    "print(partition)"
   ]
  },
  {
   "cell_type": "code",
   "execution_count": null,
   "metadata": {},
   "outputs": [],
   "source": [
    "#############\n",
    "## Cell 10 ##\n",
    "#############\n",
    "\n",
    "best_node_to_swap = find_best_node_to_swap(G, partition, already_swapped)\n",
    "partition = swap_shores(partition, best_node_to_swap)\n",
    "already_swapped.add(best_node_to_swap)\n",
    "show_partitions(G,partition, pos)\n",
    "print(partition)"
   ]
  },
  {
   "cell_type": "markdown",
   "metadata": {},
   "source": [
    "---"
   ]
  },
  {
   "cell_type": "markdown",
   "metadata": {},
   "source": [
    "Let's pull the pieces together into a function that executes each step until modularity stops increasing. We can detect when modularity stops increasing by checking to see if the best node to swap has `None` type. "
   ]
  },
  {
   "cell_type": "code",
   "execution_count": null,
   "metadata": {},
   "outputs": [],
   "source": [
    "#############\n",
    "## Cell 11 ##\n",
    "#############\n",
    "\n",
    "import time\n",
    "from IPython import display\n",
    "\n",
    "def Newman_hill_climbing(G: nx.Graph\n",
    "                         ) -> Tuple[Tuple[Set, Set], dict[Hashable, Tuple[float, float]]]:\n",
    "    \"\"\" \n",
    "        Implement Newman's hill climbing algorithm for estimating\n",
    "        the partition that maximizes modularity.\n",
    "\n",
    "        Returns:\n",
    "            The best partition found\n",
    "            and the position of the graph\n",
    "    \"\"\"\n",
    "    # Get positions for plot\n",
    "    pos: dict[Hashable, Tuple[float, float]] = nx.nx_pydot.graphviz_layout(G,prog='neato')\n",
    "\n",
    "    # Initialize\n",
    "    partition: Tuple[Set, ...] = split_into_random_shores(G)\n",
    "    already_swapped: set[Hashable] = set()\n",
    "    best_partition: Tuple[Set, ...] = deepcopy(partition)\n",
    "    best_modularity: float = nx.community.modularity(G, partition)\n",
    "    \n",
    "    # Plot \n",
    "    delay: float = 0.05\n",
    "    show_partitions(G, partition, pos)\n",
    "    \n",
    "\n",
    "    best_node_to_swap: Hashable| None = find_best_node_to_swap(G, partition, already_swapped)\n",
    "    while best_node_to_swap is not None:\n",
    "        partition = swap_shores(partition, best_node_to_swap)\n",
    "        already_swapped.add(best_node_to_swap)\n",
    "        \n",
    "        display.clear_output(wait=True)\n",
    "        show_partitions(G, partition, pos)\n",
    "        display.display(plt.gcf())\n",
    "        time.sleep(delay)\n",
    "        \n",
    "\n",
    "        if nx.community.modularity(G, partition) >= best_modularity:\n",
    "            best_modularity = nx.community.modularity(G, partition)\n",
    "            best_partition = deepcopy(partition)\n",
    "        else:\n",
    "            display.clear_output(wait=True)\n",
    "            show_partitions(G, best_partition, pos)\n",
    "            display.display(plt.gcf())\n",
    "            time.sleep(delay)\n",
    "            display.clear_output(wait=True)\n",
    "            return best_partition, pos   # Stop when modularity starts going down\n",
    "\n",
    "        best_node_to_swap: Hashable| None = find_best_node_to_swap(G, partition, already_swapped)\n",
    "\n",
    "    return best_partition, pos"
   ]
  },
  {
   "cell_type": "code",
   "execution_count": null,
   "metadata": {},
   "outputs": [],
   "source": [
    "#############\n",
    "## Cell 12 ##\n",
    "#############\n",
    " \n",
    "G: nx.Graph = nx.karate_club_graph()\n",
    "best_partition, pos = Newman_hill_climbing(G)"
   ]
  },
  {
   "cell_type": "markdown",
   "metadata": {},
   "source": [
    "### Problem with the Algorithm\n",
    "\n",
    "Run the program multiple times. Each time you run it you'll see a different partition. Why? How do you address this problem?"
   ]
  },
  {
   "cell_type": "code",
   "execution_count": null,
   "metadata": {},
   "outputs": [],
   "source": [
    "show_partitions(G, best_partition, pos, title = \"Best partition\")"
   ]
  }
 ],
 "metadata": {
  "kernelspec": {
   "display_name": ".venv",
   "language": "python",
   "name": "python3"
  },
  "language_info": {
   "codemirror_mode": {
    "name": "ipython",
    "version": 3
   },
   "file_extension": ".py",
   "mimetype": "text/x-python",
   "name": "python",
   "nbconvert_exporter": "python",
   "pygments_lexer": "ipython3",
   "version": "3.12.5"
  }
 },
 "nbformat": 4,
 "nbformat_minor": 2
}
