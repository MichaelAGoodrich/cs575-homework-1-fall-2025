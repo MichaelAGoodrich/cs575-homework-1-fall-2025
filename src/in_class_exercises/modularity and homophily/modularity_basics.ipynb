{
 "cells": [
  {
   "cell_type": "markdown",
   "metadata": {},
   "source": [
    "### Building Intuition about Modularity\n",
    "\n",
    "The goal of these in-class exercises is to build intuition about the modularity metric. Students will explore three special cases, based on the understanding that $ Q \\in [-1/2, 1] $.\n",
    "\n",
    "The special cases are\n",
    "- $Q=0$\n",
    "- $Q=-1/2$\n",
    "- $Q=1$"
   ]
  },
  {
   "cell_type": "markdown",
   "metadata": {},
   "source": [
    "---"
   ]
  },
  {
   "cell_type": "markdown",
   "metadata": {},
   "source": [
    "Begin with some utilities. The first utility draws the graph, and allows the nodes to be set by the `node_color` parameter."
   ]
  },
  {
   "cell_type": "code",
   "execution_count": null,
   "metadata": {},
   "outputs": [],
   "source": [
    "import networkx as nx\n",
    "import matplotlib.pyplot as plt\n",
    "import numpy as np\n",
    "from typing import Tuple, Literal, Hashable, Union,  Set\n",
    "from numpy import linalg as linalg\n",
    "from matplotlib.axes import Axes\n",
    "\n",
    "####################################\n",
    "## Create datatype that specifies ##\n",
    "## the style of the graph display ##\n",
    "####################################\n",
    "PlotType = Literal[\n",
    "    \"GRAPHVIZ\",\n",
    "    \"CIRCULAR\",\n",
    "    \"SPRING\",\n",
    "    \"DOT\"\n",
    "]\n",
    "\n",
    "#################################\n",
    "## Show graph with node labels ##\n",
    "## in a chosen set of axes     ##\n",
    "#################################\n",
    "def show_graph(G: nx.Graph,\n",
    "               title: str = \"\",\n",
    "               labels: Union[dict[int, str], None] = None,\n",
    "               axes: Union[None, Axes] = None,\n",
    "               node_color: Union[None, list[str]] = None,\n",
    "               plot_style: PlotType = \"GRAPHVIZ\"\n",
    "               ) -> dict[Hashable, Tuple[float, float]]:\n",
    "    if labels is None:\n",
    "        labels = {node: str(node) for node in G.nodes()}\n",
    "    if axes is None:\n",
    "        plt.figure(figsize=(4,4))\n",
    "        axes: Axes = plt.gca()\n",
    "    if node_color is None:\n",
    "        node_color = ['y' for _ in G.nodes]\n",
    "    node_positions: dict[Hashable, tuple[float, float]] = dict()\n",
    "    if plot_style == \"GRAPHVIZ\":\n",
    "        node_positions = nx.nx_pydot.graphviz_layout(G,prog='neato')\n",
    "    elif plot_style == \"DOT\":\n",
    "        node_positions = nx.nx_pydot.graphviz_layout(G,prog='dot')\n",
    "    elif plot_style == \"SPRING\":\n",
    "        node_positions = nx.spring_layout(G)\n",
    "    else:\n",
    "        node_positions = nx.circular_layout(G)\n",
    "\n",
    "    nx.draw(G, \n",
    "        node_positions, \n",
    "        node_color = node_color, \n",
    "        with_labels = True, \n",
    "        labels = labels,\n",
    "        node_size = 300,\n",
    "        ax=axes, \n",
    "        alpha=0.8)\n",
    "    \n",
    "    axes.set_title(title)\n",
    "    axes.set_aspect('equal')"
   ]
  },
  {
   "cell_type": "markdown",
   "metadata": {},
   "source": [
    "The second utility takes a partition and assigns colors to the nodes in the partition. The partition is a tuple of sets. "
   ]
  },
  {
   "cell_type": "code",
   "execution_count": null,
   "metadata": {},
   "outputs": [],
   "source": [
    "def are_mutually_disjoint(sets: Tuple[Set, ...]) -> bool:\n",
    "    \"\"\"\n",
    "        Take a tuple of sets and determine whether they are \n",
    "        mutually disjoint\n",
    "    \"\"\"\n",
    "    for i in range(len(sets)):\n",
    "        for j in range(i + 1, len(sets)):\n",
    "            if sets[i] & sets[j]:  # Check for intersection\n",
    "                return False\n",
    "    return True\n",
    "\n",
    "def groups_to_colors(G: nx.Graph,\n",
    "                     partition: Tuple[Set, ...]\n",
    "                     ) -> list[str]:\n",
    "    \"\"\"\n",
    "        Assign all nodes in a given set the same color\n",
    "        Returns a list of colors, one for each node in the graph\n",
    "    \"\"\"\n",
    "    union_set: Set = set()\n",
    "    for s in partition:\n",
    "        union_set |= s\n",
    "    if set(G) != union_set:\n",
    "        raise ValueError(\"Union of sets in partition do not equal nodes in graph\")\n",
    "    if not are_mutually_disjoint(partition):\n",
    "        raise ValueError(\"Sets in partition are not mutually disjoint\")\n",
    "\n",
    "    colors: list[str] = ['y', 'lightblue', 'violet', 'salmon', \n",
    "                         'aquamarine', 'lightpink', 'lightgray', 'linen']\n",
    "\n",
    "    node_group_dict: dict[int, int] = {node: 0 for node in sorted(G.nodes())}\n",
    "    for group_num in range(len(partition)):\n",
    "        for node in partition[group_num]:\n",
    "            node_group_dict[node] = group_num\n",
    "    \n",
    "    return [colors[node_group_dict[node]%len(colors)] for node in G.nodes()]\n",
    "\n",
    "    \n"
   ]
  },
  {
   "cell_type": "markdown",
   "metadata": {},
   "source": [
    "---"
   ]
  },
  {
   "cell_type": "markdown",
   "metadata": {},
   "source": [
    "**Example Usage**"
   ]
  },
  {
   "cell_type": "code",
   "execution_count": null,
   "metadata": {},
   "outputs": [],
   "source": [
    "G: nx.Graph = nx.path_graph(5)\n",
    "partition: Tuple[Set[Hashable], ...] = ({0,2,4}, {1}, {3})\n",
    "node_colors = groups_to_colors(G, partition)\n",
    "show_graph(G, node_color=node_colors)"
   ]
  },
  {
   "cell_type": "markdown",
   "metadata": {},
   "source": [
    "---"
   ]
  },
  {
   "cell_type": "markdown",
   "metadata": {},
   "source": [
    "**Problem 1.** Create a graph and a partition of the nodes in the graph such that the modularity of the partition is 0. The graph must have \n",
    "- five or more vertices and\n",
    "- two or more edges"
   ]
  },
  {
   "cell_type": "code",
   "execution_count": null,
   "metadata": {},
   "outputs": [],
   "source": [
    "# Build graph\n",
    "G: nx.Graph = nx.Graph()\n",
    "G.add_nodes_from({0, 1, 2, 3, 4})\n",
    "\n",
    "# TODO: Add edges\n",
    "G.add_edge()\n",
    "G.add_edge()\n",
    "\n",
    "# TODO: Define partition\n",
    "partition: Tuple[Set[Hashable], ...] = ({},{})\n",
    "\n",
    "# Show graph with partition\n",
    "node_colors = groups_to_colors(G, partition)\n",
    "title:str = f\"Graph with Q = {np.round(nx.community.modularity(G, partition),2)}\"\n",
    "show_graph(G, node_color=node_colors, title=title)\n"
   ]
  },
  {
   "cell_type": "markdown",
   "metadata": {},
   "source": [
    "---"
   ]
  },
  {
   "cell_type": "markdown",
   "metadata": {},
   "source": [
    "**Problem 2.** Create a graph and a partition of the nodes in the graph such that the modularity of the partition is 0. The graph must have \n",
    "- five or more vertices\n",
    "- two or more edges\n",
    "\n",
    "The partition must include at least two sets."
   ]
  },
  {
   "cell_type": "code",
   "execution_count": null,
   "metadata": {},
   "outputs": [],
   "source": [
    "# Build graph\n",
    "G: nx.Graph = nx.Graph()\n",
    "G.add_nodes_from({0, 1, 2, 3, 4})\n",
    "\n",
    "# TODO: Add edges\n",
    "G.add_edge()\n",
    "G.add_edge()\n",
    "\n",
    "# TODO: Define partition\n",
    "partition: Tuple[Set[Hashable], ...] = ({}, {})\n",
    "\n",
    "# Show graph with partition\n",
    "node_colors = groups_to_colors(G, partition)\n",
    "title:str = f\"Graph with Q = {np.round(nx.community.modularity(G, partition),2)}\"\n",
    "show_graph(G, node_color=node_colors, title=title)"
   ]
  },
  {
   "cell_type": "markdown",
   "metadata": {},
   "source": [
    "---"
   ]
  },
  {
   "cell_type": "markdown",
   "metadata": {},
   "source": [
    "**Problem 3.** Create a graph and a partition of the nodes in the graph such that the modularity of the partition is -1/2. The graph must have \n",
    "- five or more vertices\n",
    "- two or more edges\n",
    "\n",
    "The partition must include at least two sets."
   ]
  },
  {
   "cell_type": "code",
   "execution_count": null,
   "metadata": {},
   "outputs": [],
   "source": [
    "# Build graph\n",
    "G: nx.Graph = nx.Graph()\n",
    "G.add_nodes_from({0, 1, 2, 3, 4, 5})\n",
    "\n",
    "# TODO: Add edges\n",
    "# TODO: Add edges\n",
    "G.add_edge()\n",
    "G.add_edge()\n",
    "\n",
    "# TODO: Define partition\n",
    "partition: Tuple[Set[Hashable], ...] = ({}, {})\n",
    "\n",
    "# Show graph with partition\n",
    "node_colors = groups_to_colors(G, partition)\n",
    "title:str = f\"Graph with Q = {np.round(nx.community.modularity(G, partition),2)}\"\n",
    "show_graph(G, node_color=node_colors, title=title)"
   ]
  },
  {
   "cell_type": "markdown",
   "metadata": {},
   "source": [
    "---"
   ]
  },
  {
   "cell_type": "markdown",
   "metadata": {},
   "source": [
    "**Problem 4.** Create a graph and a partition of the nodes in the graph such that the modularity of the partition is at least 0.75. The graph must have \n",
    "- twelve or more vertices\n",
    "- two or more edges\n",
    "\n",
    "The partition must include at least two sets."
   ]
  },
  {
   "cell_type": "code",
   "execution_count": null,
   "metadata": {},
   "outputs": [],
   "source": [
    "# Build graph\n",
    "G: nx.Graph = nx.Graph()\n",
    "G.add_nodes_from({0, 1, 2, 3, 4, 5, 6, 7, 8, 9, 10, 11})\n",
    "\n",
    "# TODO: Add edges\n",
    "G.add_edge()\n",
    "G.add_edge()\n",
    "\n",
    "# TODO: Define partition\n",
    "partition: Tuple[Set[Hashable], ...] = ({}, {})\n",
    "\n",
    "# Show graph with partition\n",
    "node_colors = groups_to_colors(G, partition)\n",
    "title:str = f\"Graph with Q = {np.round(nx.community.modularity(G, partition),2)}\"\n",
    "show_graph(G, node_color=node_colors, title=title)"
   ]
  },
  {
   "cell_type": "markdown",
   "metadata": {},
   "source": [
    "---"
   ]
  },
  {
   "cell_type": "markdown",
   "metadata": {},
   "source": [
    "**Problem 5.** Create a graph and a partition of the nodes in the graph such that the modularity of the partition is at least 0.95. The graph must have \n",
    "- 50 or more vertices\n",
    "- 25 or more edges\n",
    "\n",
    "The partition must include at least two sets."
   ]
  },
  {
   "cell_type": "code",
   "execution_count": null,
   "metadata": {},
   "outputs": [],
   "source": [
    "# Build graph\n",
    "G: nx.Graph = nx.Graph()\n",
    "G.add_nodes_from(range(50))\n",
    "\n",
    "# TODO: Add edges\n",
    "G.add_edge()\n",
    "G.add_edge()\n",
    "\n",
    "# TODO: Define partition\n",
    "partition: Tuple[Set[Hashable], ...] = ({}, {})\n",
    "\n",
    "# Show graph with partition\n",
    "node_colors = groups_to_colors(G, partition)\n",
    "title:str = f\"Graph with Q = {np.round(nx.community.modularity(G, partition),2)}\"\n",
    "show_graph(G, node_color=node_colors, title=title)"
   ]
  }
 ],
 "metadata": {
  "kernelspec": {
   "display_name": ".venv",
   "language": "python",
   "name": "python3"
  },
  "language_info": {
   "codemirror_mode": {
    "name": "ipython",
    "version": 3
   },
   "file_extension": ".py",
   "mimetype": "text/x-python",
   "name": "python",
   "nbconvert_exporter": "python",
   "pygments_lexer": "ipython3",
   "version": "3.12.5"
  }
 },
 "nbformat": 4,
 "nbformat_minor": 2
}
