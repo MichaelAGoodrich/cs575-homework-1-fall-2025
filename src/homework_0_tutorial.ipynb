{
 "cells": [
  {
   "cell_type": "markdown",
   "metadata": {},
   "source": [
    "### Examples for creating graphs\n",
    "\n",
    "- From set of vertices and set of edges\n",
    "- From adjacency list\n",
    "- From adjacency matrix\n",
    "\n",
    "Show for both directed and undirected graphs\n",
    "\n",
    "---"
   ]
  },
  {
   "cell_type": "markdown",
   "metadata": {},
   "source": [
    "Create undirected graphs and directed graphs from vertex set and edge set"
   ]
  },
  {
   "cell_type": "code",
   "execution_count": 1,
   "metadata": {},
   "outputs": [
    {
     "data": {
      "image/png": "[encoded data removed]",
      "text/plain": [
       "<Figure size 640x480 with 1 Axes>"
      ]
     },
     "metadata": {},
     "output_type": "display_data"
    }
   ],
   "source": [
    "import network_utilities as nu\n",
    "G = nu.vertex_edge_sets_to_graph({1,2}, {(1,2)})\n",
    "nu.show_graph(G)\n"
   ]
  },
  {
   "cell_type": "code",
   "execution_count": null,
   "metadata": {},
   "outputs": [],
   "source": [
    "G = nu.vertex_edge_sets_to_digraph({1,2,3}, \n",
    "                                   {(1,2),\n",
    "                                    (2,1),\n",
    "                                    (1,3)})\n",
    "nu.show_digraph(G)"
   ]
  },
  {
   "cell_type": "markdown",
   "metadata": {},
   "source": [
    "---"
   ]
  },
  {
   "cell_type": "markdown",
   "metadata": {},
   "source": [
    "Create undirected and directed graphs from adjacency list. Violate some of the requirements for graphs or adjacency lists and make sure correct error messages occur."
   ]
  },
  {
   "cell_type": "code",
   "execution_count": null,
   "metadata": {},
   "outputs": [],
   "source": [
    "## Error conditions \n",
    "G = nu.adjacency_list_to_graph(dict())"
   ]
  },
  {
   "cell_type": "markdown",
   "metadata": {},
   "source": [
    "Notice how this example _raises_ the `IllegalGraphRepresentation` error."
   ]
  },
  {
   "cell_type": "code",
   "execution_count": null,
   "metadata": {},
   "outputs": [],
   "source": [
    "## incorrect adjacency list\n",
    "G = nu.adjacency_list_to_graph({1:{2}, 2:set()})"
   ]
  },
  {
   "cell_type": "markdown",
   "metadata": {},
   "source": [
    "Again, notice how this example _raises_ the `IllegalGraphRepresentation` error.\n"
   ]
  },
  {
   "cell_type": "code",
   "execution_count": null,
   "metadata": {},
   "outputs": [],
   "source": [
    "## Correct adjacency list\n",
    "G = nu.adjacency_list_to_graph({1:{2,3}, 2:{1}, 3:{1}})\n",
    "nu.show_graph(G)"
   ]
  },
  {
   "cell_type": "code",
   "execution_count": null,
   "metadata": {},
   "outputs": [],
   "source": [
    "## Directed graph\n",
    "G = nu.adjacency_list_to_digraph({1:{2,3}, 2:{3}, 3:{1}})\n",
    "nu.show_digraph(G)"
   ]
  },
  {
   "cell_type": "markdown",
   "metadata": {},
   "source": [
    "---"
   ]
  },
  {
   "cell_type": "markdown",
   "metadata": {},
   "source": [
    "### Writing Tests\n",
    "\n",
    "We'll sometimes use `pytest` on homework as a way of blending programming with the related mathc concepts. The idea is that you'll create problems where your code should fail and other problems where your code should succeed. I'll try to create homework assignments where you'll need to use the math or formalisms taught in class to create your tests. This will (hopefully) create a learning activity where have to \"do the math\" in order to write the tests. \n",
    "\n",
    "I now want to demonstrate the pattern for doing this so that we're all using a similar structure (which makes assignment creation and assessment feasible for an entire class).\n"
   ]
  },
  {
   "cell_type": "markdown",
   "metadata": {},
   "source": [
    "#### Negative Tests\n",
    "\n",
    "The following code demonstrates a pattern for writing negative tests."
   ]
  },
  {
   "cell_type": "code",
   "execution_count": 8,
   "metadata": {},
   "outputs": [],
   "source": [
    "import pytest\n",
    "from network_utilities import IllegalGraphRepresentation\n",
    "\n",
    "def test_adjacency_list_graph_creation_failures():\n",
    "    ########################################\n",
    "    ## Empty adjacency list negative test ##\n",
    "    ########################################\n",
    "    # What I expect\n",
    "    expected_error_message_empty_list: str = \"Adjacency list had no vertices\"\n",
    "    \n",
    "    # Instantiate adjacency list\n",
    "    empty_adjacency_list = dict()\n",
    "    \n",
    "    # when\n",
    "    with pytest.raises(IllegalGraphRepresentation ) as exception:\n",
    "        _ = nu.adjacency_list_to_graph(empty_adjacency_list)\n",
    "\n",
    "    # then\n",
    "    assert (\n",
    "        expected_error_message_empty_list == str(exception.value)\n",
    "    ) , f\"Incorrect error message \\\"{exception.value}\\\" for empty adjacency list\"\n",
    "    \n",
    "    #################################\n",
    "    ## Missing edges negative test ##\n",
    "    #################################\n",
    "    # What I expect\n",
    "    expected_error_message_missing_edges: str = \"Adjacency list for undirected graph does not have all required edges\"\n",
    "\n",
    "    # Instantiate adjacency list\n",
    "    missing_edges_adjacency_list = {1:{2}, 2:set()}\n",
    "    \n",
    "    # when\n",
    "    with pytest.raises(IllegalGraphRepresentation ) as exception:\n",
    "        _ = nu.adjacency_list_to_graph(missing_edges_adjacency_list)\n",
    "\n",
    "    # then\n",
    "    assert (\n",
    "        expected_error_message_missing_edges == str(exception.value)\n",
    "    ) , f\"Incorrect error message \\\"{exception.value}\\\" for adjacency list that is missing edges\"\n",
    "\n",
    "    # If assertion satisfied\n",
    "    print(\"negative tests for adjacency list functions passed\")"
   ]
  },
  {
   "cell_type": "markdown",
   "metadata": {},
   "source": [
    "Run the test"
   ]
  },
  {
   "cell_type": "code",
   "execution_count": null,
   "metadata": {},
   "outputs": [],
   "source": [
    "test_adjacency_list_graph_creation_failures()"
   ]
  },
  {
   "cell_type": "markdown",
   "metadata": {},
   "source": [
    "Notice the pattern in this negative test:\n",
    "- define a test function\n",
    "- tell the test function what error message to expect for this negative test\n",
    "- instantiate two relations\n",
    "- capture the `exception` that is `raise`d when the `adjacency_list_to_graph` function is called\n",
    "- assert that the expected error message matches the error message returned from `adjacency_list_to_graph`\n",
    "- run the test by calling `test_adjacency_list_graph_creation_failures()`\n",
    "\n",
    "Line 12 is the code that captures the exception. It might help to look at the things that make up that line:\n",
    "- The keyword `with` tells us that we are handling irregular program termination in our negative test\n",
    "- The code segment `pytest.raises` indicates that we are looking for a particular exception being raised\n",
    "- The argument `IllegalGraphRepresentation` is the kind of exception we are looking for\n",
    "- The code segment `as exception` says that we want to capture the object created by the exception in a variable called `exception`\n",
    "\n",
    "The underscores on lines 16 and 34 say that we know the `adjacency_list_to_graph` function returns something, but we'll never use it so we aren't going to name it.\n",
    "\n",
    "Lines 19 and 37 use the `value` stored in the `exception` object. This `value` is the error message that is written when the exception occurs. Lines 20 and 38 compare the actual error message with the error message that we knew should occur during the negative test.\n",
    "\n",
    "---"
   ]
  },
  {
   "cell_type": "markdown",
   "metadata": {},
   "source": [
    "#### Positive Tests\n",
    "We also want _positive tests_ that demonstrate that our code behaves like we want it to. We do basically the same thing as with the negative test, but we don't use the `with pytest.raises` code when we create our graph. The following code demonstrates two positive tests, both of which are in the `test_adjacency_list_graph_creation.py` file. "
   ]
  },
  {
   "cell_type": "code",
   "execution_count": 10,
   "metadata": {},
   "outputs": [],
   "source": [
    "def test_adjacency_list_three_vertex_graph_creation():\n",
    "    ##############################\n",
    "    ## Two vertex positive test ##\n",
    "    ##############################\n",
    "    # What I expect\n",
    "    expected_vertex_list: list[int] = [1,2,3]\n",
    "    expected_edge_set: set[tuple[int,int]] = {(1,2), (1,3)}\n",
    "    \n",
    "    # Instantiate adjacency list\n",
    "    adjacency_list: dict[int, set[int]] = {3:{1}, 1:{2,3}, 2:{1}}\n",
    "\n",
    "    # when\n",
    "    G = nu.adjacency_list_to_graph(adjacency_list)\n",
    "    actual_edge_set = set(tuple(sorted(edge)) for edge in G.edges())\n",
    "    print(G.edges())\n",
    "    print(actual_edge_set)\n",
    "    print(expected_edge_set)\n",
    "    print(expected_edge_set == actual_edge_set)\n",
    "\n",
    "    # then\n",
    "    assert expected_vertex_list == sorted(list(G.nodes()))\n",
    "    assert actual_edge_set == expected_edge_set\n"
   ]
  },
  {
   "cell_type": "markdown",
   "metadata": {},
   "source": [
    "Run tests"
   ]
  },
  {
   "cell_type": "code",
   "execution_count": null,
   "metadata": {},
   "outputs": [],
   "source": [
    "test_adjacency_list_three_vertex_graph_creation()"
   ]
  },
  {
   "cell_type": "markdown",
   "metadata": {},
   "source": [
    "When networkx creates an undirected graph, the edges are stored as tuples, and the order of the edge endpoints can be in any order. The code on line 14 makes sure that the endpoints of the edge are sequential. I printed out some intermediate steps to illustrate what the code does. Note that the code isn't written for efficiency, so you can probably find better ways to do this test.\n",
    "\n",
    "Let's now write a positive test for a directed graph."
   ]
  },
  {
   "cell_type": "code",
   "execution_count": null,
   "metadata": {},
   "outputs": [],
   "source": [
    "def test_adjacency_list_three_vertex_directed_graph_creation() -> None:\n",
    "    ################################\n",
    "    ## Three vertex positive test ##\n",
    "    ################################\n",
    "    # What I expect\n",
    "    expected_vertex_list: list[int] = [1,2,3]\n",
    "    expected_edge_set: set[tuple[int,int]] = {(1,2), (1,3), (3,1), (2,1)}\n",
    "    \n",
    "    # Instantiate adjacency list\n",
    "    adjacency_list: dict[int, set[int]] = {3:{1}, 1:{2,3}, 2:{1}}\n",
    "\n",
    "    # when\n",
    "    G = nu.adjacency_list_to_digraph(adjacency_list)\n",
    "    actual_edge_set = set(tuple(edge) for edge in G.edges())\n",
    "    print(expected_edge_set)\n",
    "    print(actual_edge_set)\n",
    "    \n",
    "    # then\n",
    "    assert expected_vertex_list == sorted(list(G.nodes()))\n",
    "    assert actual_edge_set == expected_edge_set\n",
    "\n",
    "## Run the test\n",
    "test_adjacency_list_three_vertex_directed_graph_creation()"
   ]
  },
  {
   "cell_type": "markdown",
   "metadata": {},
   "source": [
    "---"
   ]
  },
  {
   "cell_type": "markdown",
   "metadata": {},
   "source": [
    "#### Creating test files in the tests directory\n",
    "\n",
    "Open up the `test_adjacency_list.py` in the `tests` directory and compare the negative tests from that file to the test written above.  Notice that I've split the negative tests for creating an undirected graph from an adjacency list into two different functions, and notice that there are other positive and negative tests.\n",
    "\n",
    "Assuming that you've implemented all the steps in the `README`, you should be able to click on the test tube icon in VSCode and see all the tests found in the `test_adjacency_list_graph_creation.py` file. "
   ]
  },
  {
   "cell_type": "markdown",
   "metadata": {},
   "source": [
    "---"
   ]
  },
  {
   "cell_type": "markdown",
   "metadata": {},
   "source": [
    "Create undirected and directed graphs from adjacency matrix"
   ]
  },
  {
   "cell_type": "code",
   "execution_count": null,
   "metadata": {},
   "outputs": [],
   "source": [
    "import numpy as np\n",
    "\n",
    "## Incorrect adjacency matrix ##\n",
    "G = nu.adjacency_matrix_to_graph(np.array([]))"
   ]
  },
  {
   "cell_type": "code",
   "execution_count": null,
   "metadata": {},
   "outputs": [],
   "source": [
    "## Asymmetric adjacency matrix ##\n",
    "G = nu.adjacency_matrix_to_graph(np.array([[0,1],[0,0]]))"
   ]
  },
  {
   "cell_type": "code",
   "execution_count": null,
   "metadata": {},
   "outputs": [],
   "source": [
    "## Undirected graph\n",
    "A = np.array([[0,1,1],[1,0,0],[1,0,0]])\n",
    "print(np.array_equal(A, A.T))\n",
    "G = nu.adjacency_matrix_to_graph(A)\n",
    "nu.show_graph(G)"
   ]
  },
  {
   "cell_type": "code",
   "execution_count": null,
   "metadata": {},
   "outputs": [],
   "source": [
    "## Directed graph\n",
    "A = np.array([[0,1,1],[0,0,1],[0,1,0]])\n",
    "print(np.array_equal(A, A.T))\n",
    "G = nu.adjacency_matrix_to_digraph(A)\n",
    "nu.show_digraph(G)"
   ]
  },
  {
   "cell_type": "markdown",
   "metadata": {},
   "source": [
    "Notice how the adjacency matrix defaults to numbering nodes at 0."
   ]
  }
 ],
 "metadata": {
  "kernelspec": {
   "display_name": ".venv",
   "language": "python",
   "name": "python3"
  },
  "language_info": {
   "codemirror_mode": {
    "name": "ipython",
    "version": 3
   },
   "file_extension": ".py",
   "mimetype": "text/x-python",
   "name": "python",
   "nbconvert_exporter": "python",
   "pygments_lexer": "ipython3",
   "version": "3.12.5"
  }
 },
 "nbformat": 4,
 "nbformat_minor": 2
}
